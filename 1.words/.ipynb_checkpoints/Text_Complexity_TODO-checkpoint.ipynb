{
 "cells": [
  {
   "cell_type": "markdown",
   "id": "89dd4ae7",
   "metadata": {},
   "source": [
    "Common measures of textual complexity are derived from simple counts of words, sentences and syllables.  In this homework, you'll implement two of them: type-token ratio (a measure of vocabulary richness) and the [Flesch-Kincaid Grade Level](https://en.wikipedia.org/wiki/Flesch–Kincaid_readability_tests#Flesch–Kincaid_grade_level)."
   ]
  },
  {
   "cell_type": "code",
   "execution_count": 1,
   "id": "6e71628d",
   "metadata": {},
   "outputs": [],
   "source": [
    "import nltk\n",
    "import re"
   ]
  },
  {
   "cell_type": "code",
   "execution_count": 2,
   "id": "7f4944f5",
   "metadata": {},
   "outputs": [
    {
     "name": "stderr",
     "output_type": "stream",
     "text": [
      "[nltk_data] Downloading package punkt to /Users/castroian/nltk_data...\n",
      "[nltk_data]   Package punkt is already up-to-date!\n"
     ]
    },
    {
     "data": {
      "text/plain": [
       "True"
      ]
     },
     "execution_count": 2,
     "metadata": {},
     "output_type": "execute_result"
    }
   ],
   "source": [
    "# If you haven't downloaded the sentence segmentation model before, do so here\n",
    "nltk.download(\"punkt\")"
   ]
  },
  {
   "cell_type": "markdown",
   "id": "c5a7820e",
   "metadata": {},
   "source": [
    "Q1: Find two different texts you'd like to compare (from any source).  For potential sources, see the [The American Presidency Project](https://www.presidency.ucsb.edu/documents/presidential-documents-archive-guidebook/annual-messages-congress-the-state-the-union) for all state of the union addresses and [Project Gutenberg](https://www.gutenberg.org) for books in the public domain.  Paste them in the `text1` and `text2` strings below.  Ensure that both texts are a minimum of 500 words."
   ]
  },
  {
   "cell_type": "code",
   "execution_count": 3,
   "id": "63adb141",
   "metadata": {},
   "outputs": [],
   "source": [
    "# Source: American Presidency Project, Washington's Eighth Annual Message to Congress\n",
    "# 2877 words according to wordcounttools.com\n",
    "text1=\"\"\"Fellow-Citizens of the Senate and House of Representatives:\n",
    "\n",
    "In recurring to the internal situation of our country since I had last the pleasure to address you, I find ample reason for a renewed expression of that gratitude to the Ruler of the Universe which a continued series of prosperity has so often and so justly called forth.\n",
    "\n",
    "The acts of the last session which required special arrangements have been as far as circumstances would admit carried into operation.\n",
    "\n",
    "Measures calculated to insure a continuance of the friendship of the Indians and to preserve peace along the extent of our interior frontier have been digested and adopted. In the framing of these care has been taken to guard on the one hand our advanced settlements from the predatory incursions of those unruly individuals who can not be restrained by their tribes, and on the other hand to protect the rights secured to the Indians by treaty - to draw them nearer to the civilized state and inspire them with correct conceptions of the power as well as justice of the Government.\n",
    "\n",
    "The meeting of the deputies from the Creek Nation at Colerain, in the State of Georgia, which had for a principal object the purchase of a parcel of their land by that State, broke up without its being accomplished, the nation having previous to their departure instructed them against making any sale. The occasion, however, has been improved to confirm by a new treaty with the Creeks their preexisting engagements with the United States, and to obtain their consent to the establishment of trading houses and military posts within their boundary, by means of which their friendship and the general peace may be more effectually secured.\n",
    "\n",
    "The period during the late session at which the appropriation was passed for carrying into effect the treaty of amity, commerce, and navigation between the United States and His Brittanic Majesty necessarily procrastinated the reception of the posts stipulated to be delivered beyond the date assigned for that event. As soon, however, as the Governor-General of Canada could be addressed with propriety on the subject, arrangements were cordially and promptly concluded for their evacuation, and the United States took possession of the principal of them, comprehending Oswego, Niagara, Detroit, Michilimackinac, and Fort Miami, where such repairs and additions have been ordered to be made as appeared indispensable.\n",
    "\n",
    "The commissioners appointed on the part of the United States and of Great Britain to determine which is the river St. Croix mentioned in the treaty of peace of 1783, agreed in the choice of Egbert Benson, esq., of New York, for the 3rd commissioner. The whole met at St. Andrew's, in Passamaquoddy Bay, in the beginning of October, and directed surveys to be made of the rivers in dispute; but deeming it impracticable to have these surveys completed before the next year, they adjourned to meet at Boston in August, 1797, for the final decision of the question.\n",
    "\n",
    "Other commissioners appointed on the part of the United States, agreeably to the 7th article of the treaty with Great Britain, relative to captures and condemnation of vessels and other property, met the commissioners of His Britannic Majesty in London in August last, when John Trumbull, esq., was chosen by lot for the 5th commissioner. In October following the board were to proceed to business. As yet there has been no communication of commissioners on the part of Great Britain to unite with those who have been appointed on the part of the United States for carrying into effect the 6th article of the treaty.\n",
    "\n",
    "The treaty with Spain required that the commissioners for running the boundary line between the territory of the United States and His Catholic Majesty's provinces of East and West Florida should meet at the Natchez before the expiration of 6 months after the exchange of the ratifications, which was effected at Aranjuez on the 25th day of April [1796-04-25]; and the troops of His Catholic Majesty occupying any posts within the limits of the United States were within the same time period to be withdrawn. The commissioner of the United States therefore commenced his journey for the Natchez in September, and troops were ordered to occupy the posts from which the Spanish garrisons should be withdrawn. Information has been recently received of the appointment of a commissioner on the part of His Catholic Majesty for running the boundary line, but none of any appointment for the adjustment of the claims of our citizens whose vessels were captured by the armed vessels of Spain.\n",
    "\n",
    "In pursuance of the act of Congress passed in the last session for the protection and relief of American sea-men, agents were appointed, one to reside in Great Britain and the other in the West Indies. The effects of the agency in the West Indies are not yet fully ascertained, but those which have been communicated afford grounds to believe the measure will be beneficial. The agent destined to reside in Great Britain declining to accept the appointment, the business has consequently devolved on the minister of the United States in London, and will command his attention until a new agent shall be appointed.\n",
    "\n",
    "After many delays and disappointments arising out of the European war, the final arrangements for fulfilling the engagements made to the Dey and Regency of Algiers will in all present appearance be crowned with success, but under great, though inevitable, disadvantages in the pecuniary transactions occasioned by that war, which will render further provision necessary. The actual liberation of all our citizens who were prisoners in Algiers, while it gratifies every feeling of heart, is itself an earnest of a satisfactory termination of the whole negotiation. Measures are in operation for effecting treaties with the Regencies of Tunis and Tripoli.\n",
    "\n",
    "To an active external commerce the protection of a naval force is indispensable. This is manifest with regard to wars in which a State is itself a party. But besides this, it is in our own experience that the most sincere neutrality is not a sufficient guard against the depredations of nations at war. To secure respect to a neutral flag requires a naval force organized and ready to vindicate it from insult or aggression. This may even prevent the necessity of going to war by discouraging belligerent powers from committing such violations of the rights of the neutral party as may, first or last, leave no other option. From the best information I have been able to obtain it would seem as if our trade to the Mediterranean without a protecting force will always be insecure and our citizens exposed to the calamities from which numbers of them have but just been relieved.\n",
    "\n",
    "These considerations invite the United States to look to the means, and to set about the gradual creation of a navy. The increasing progress of their navigation promises them at no distant period the requisite supply of sea-men, and their means in other respects favor the undertaking. It is an encouragement, likewise, that their particular situation will give weight and influence to a moderate naval force in their hands. Will it not, then, be advisable to begin without delay to provide and lay up the materials for the building and equipping of ships of war, and to proceed in the work by degrees, in proportion as our resources shall render it practicable without inconvenience, so that a future war of Europe may not find our commerce in the same unprotected state in which it was found by the present?\n",
    "\n",
    "Congress have repeatedly, and not without success, directed their attention to the encouragement of manufactures. The object is of too much consequence not to insure a continuance of their efforts in every way which shall appear eligible. As a general rule, manufactures on public account are inexpedient; but where the state of things in a country leaves little hope that certain branches of manufacture will for a great length of time obtain, when these are of a nature essential to the furnishing and equipping of the public force in time of war, are not establishments for procuring them on public account to the extent of the ordinary demand for the public service recommended by strong considerations of national policy as an exception to the general rule?\n",
    "\n",
    "Ought our country to remain in such cases dependent on foreign supply, precarious because liable to be interrupted? If the necessary article should in this mode cost more in time of peace, will not the security and independence thence arising form an ample compensation?\n",
    "\n",
    "Establishments of this sort, commensurate only with the calls of the public service in time of peace, will in time of war easily be extended in proportion to the exigencies of the Government, and may even perhaps be made to yield a surplus for the supply of our citizens at large, so as to mitigate the privations from the interruption of their trade. If adopted, the plan ought to exclude all those branches which are already, or likely soon to be, established in the country, in order that they may be no danger of interference with pursuits of individual industry.\n",
    "\n",
    "It will not be doubted that with reference either to individual or national welfare agriculture is of primary importance. In proportion as nations advance in population and other circumstances of maturity this truth becomes more apparent, and renders the cultivation of the soil more and more an object of public patronage. Institutions for promoting it grow up, supported by the public purse; and to what object can it be dedicated with greater propriety?\n",
    "\n",
    "Among the means which have been employed to this end none have been attended with greater success than the establishment of boards (composed of proper characters) charged with collecting and diffusing information, and enabled by premiums and small pecuniary aids to encourage and assist a spirit of discovery and improvement. This species of establishment contributes doubly to the increase of improvement by stimulating to enterprise and experiment, and by drawing to a common center the results everywhere of individual skill and observation, and spreading them thence over the whole nation. Experience accordingly has shewn that they are very cheap instruments of immense national benefits.\n",
    "\n",
    "I have heretofore proposed to the consideration of Congress the expediency of establishing a national university and also a military academy. the desirableness of both these institutions has so constantly increased with every new view I have taken of the subject that I can not omit the opportunity of once for all recalling your attention to them.\n",
    "\n",
    "The assembly to which I address myself is too enlightened not to be fully sensible how much a flourishing state of the arts and sciences contributes to national prosperity and reputation.\n",
    "\n",
    "True it is that our country, much to its honor, contains many seminaries of learning highly repeatable and useful; but the funds upon which they rest are too narrow to command the ablest professors in the different departments of liberal knowledge for the institution contemplated, though they would be excellent auxiliaries.\n",
    "\n",
    "Amongst the motives to such an institution, the assimilation of the principles, opinions, and manners of our country-men by the common education of a portion of our youth from every quarter well deserves attention. The more homogenous our citizens can be made in these particulars the greater will be our prospect of permanent union; and a primary object of such a national institution should be the education of our youth in the science of government. In a republic what species of knowledge can be equally important and what duty more pressing on its legislature than to patronize a plan for communicating it to those who are to be the future guardians of the liberties of the country?\n",
    "\n",
    "The institution of a military academy is also recommended by cogent reasons. However pacific the general policy of a nation may be, it ought never to be without an adequate stock of military knowledge for emergencies. The 1st would impair the energy of its character, and both would hazard its safety or expose it to greater evils when war could not be avoided; besides that, war might often not depend upon its own choice. In proportion as the observance of pacific maxims might exempt a nation from the necessity of practicing the rules of the military art ought to be its care in preserving and transmitting, by proper establishments, the knowledge of that art.\n",
    "\n",
    "Whatever argument may be drawn from particular examples superficially viewed, a thorough examination of the subject will evince that the art of war is at once comprehensive and complicated, that it demands much previous study, and that the possession of it in its most improved and perfect state is always of great moment to the security of a nation. This, therefore, ought to be a serious care of every government, and for this purpose an academy where a regular course of instruction is given is an obvious expedient which different nations have successfully employed.\n",
    "\n",
    "The compensation to the officers of the United States in various instances, and in none more than in respect to the most important stations, appear to call for legislative revision. The consequences of a defective provision are of serious import to the Government. If private wealth is to supply the defect of public retribution, it will greatly contract the sphere within which the selection of character for office is to be made, and will proportionally diminish the probability of a choice of men able as well as upright. Besides that, it should be repugnant to the vital principles of our Government virtually to exclude from public trusts talents and virtue unless accompanied by wealth.\n",
    "\n",
    "While in our external relations some serious inconveniences and embarrassments have been overcome and others lessened, it is with much pain and deep regret I mention that circumstances of a very unwelcome nature have lately occurred. Our trade has suffered and is suffering extensive injuries in the West Indies from the cruisers and agents of the French Republic, and communications have been received from its minister here which indicate the danger of a further disturbance of our commerce by its authority, and which are in other respects far from agreeable.\n",
    "\n",
    "It has been my constant, sincere, and earnest wish, in conformity with that of our nation, to maintain cordial harmony and a perfectly friendly understanding with that Republic. This wish remains unabated, and I shall persevere in the endeavor to fulfill it to the utmost extent of what shall be consistent with a just and indispensable regard to the rights and honor of our country; nor will I easily cease to cherish the expectation that a spirit of justice, candor, and friendship on the part of the Republic will eventually insure success.\n",
    "\n",
    "In pursuing this course, however, I can not forget what is due to the character of our Government and nation, or to a full and entire confidence in the good sense, patriotism, self-respect, and fortitude of my country-men.\n",
    "\n",
    "I reserve for a special message a more particular communication on this interesting subject.\n",
    "\n",
    "Gentlemen of the House of Representatives:\n",
    "\n",
    "I have directed an estimate of the appropriations necessary for the service of the ensuing year to be submitted from the proper Department, with a view of the public receipts and expenditures to the latest period to which an account can be prepared.\n",
    "\n",
    "It is with satisfaction I am able to inform you that the revenues of the United States continue in a state of progressive improvement.\n",
    "\n",
    "A reenforcement of the existing provisions for discharging our public debt was mentioned in my address at the opening of the last session. Some preliminary steps were taken toward it, the maturing of which will no doubt engage your zealous attention during the present. I will only add that it will afford me a heart-felt satisfaction to concur in such further measures as will ascertain to our country the prospect of a speedy extinguishment of the debt. Posterity may have cause to regret if from any motive intervals of tranquillity are left unimproved for accelerating this valuable end.\n",
    "\n",
    "Gentlemen of the Senate and of the House of Representatives:\n",
    "\n",
    "My solicitude to see the militia of the United States placed on an efficient establishment has been so often and so ardently expressed that I shall but barely recall the subject to your view on the present occasion, at the same time that I shall submit to your inquiry whether our harbors are yet sufficiently secured.\n",
    "\n",
    "The situation in which I now stand for the last time, in the midst of the representatives of the people of the United States, naturally recalls the period when the administration of the present form of government commenced, and I can not omit the occasion to congratulate you and my country on the success of the experiment, nor to repeat my fervent supplications to the Supreme Ruler of the Universe and Sovereign Arbiter of Nations that His providential care may still be extended to the United States, that the virtue and happiness of the people may be preserved, and that the Government which they have instituted for the protection of their liberties may be perpetual. \"\"\""
   ]
  },
  {
   "cell_type": "code",
   "execution_count": 4,
   "id": "0d080408",
   "metadata": {},
   "outputs": [],
   "source": [
    "# Source: American Presidency Project, Obama's Eighth State of the Union\n",
    "# 6051 words according to wordcounttools.com\n",
    "text2=\"\"\"Thank you. Mr. Speaker, Mr. Vice President, Members of Congress, my fellow Americans: Tonight marks the eighth year that I've come here to report on the State of the Union. And for this final one, I'm going to try to make it a little shorter. I know some of you are antsy to get back to Iowa. [Laughter] I've been there. I'll be shaking hands afterwards if you want some tips. [Laughter]\n",
    "\n",
    "Now, I understand that because it's an election season, expectations for what we will achieve this year are low. But, Mr. Speaker, I appreciate the constructive approach that you and other leaders took at the end of last year to pass a budget and make tax cuts permanent for working families. So I hope we can work together this year on some bipartisan priorities like criminal justice reform and helping people who are battling prescription drug abuse and heroin abuse. So, who knows, we might surprise the cynics again.\n",
    "\n",
    "But tonight I want to go easy on the traditional list of proposals for the year ahead. Don't worry, I've got plenty—[laughter]—from helping students learn to write computer code to personalizing medical treatments for patients. And I will keep pushing for progress on the work that I believe still needs to be done: fixing a broken immigration system, protecting our kids from gun violence, equal pay for equal work, paid leave, raising the minimum wage. All these things still matter to hard-working families. They're still the right thing to do. And I won't let up until they get done.\n",
    "\n",
    "But for my final address to this Chamber, I don't want to just talk about next year. I want to focus on the next 5 years, the next 10 years, and beyond. I want to focus on our future.\n",
    "\n",
    "We live in a time of extraordinary change, change that's reshaping the way we live, the way we work, our planet, our place in the world. It's change that promises amazing medical breakthroughs, but also economic disruptions that strain working families. It promises this education for girls in the most remote villages, but also connects terrorists plotting an ocean away. It's change that can broaden opportunity or widen inequality. And whether we like it or not, the pace of this change will only accelerate.\n",
    "\n",
    "America has been through big changes before: wars and depression, the influx of new immigrants, workers fighting for a fair deal, movements to expand civil rights. Each time, there have been those who told us to fear the future; who claimed we could slam the brakes on change; who promised to restore past glory if we just got some group or idea that was threatening America under control. And each time, we overcame those fears. We did not, in the words of Lincoln, adhere to the \"dogmas of the quiet past.\" Instead, we thought anew and acted anew. We made change work for us, always extending America's promise outward, to the next frontier, to more people. And because we did, because we saw opportunity with a—where others saw peril, we emerged stronger and better than before.\n",
    "\n",
    "What was true then can be true now. Our unique strengths as a nation—our optimism and work ethic, our spirit of discovery, our diversity, our commitment to rule of law—these things give us everything we need to ensure prosperity and security for generations to come.\n",
    "\n",
    "In fact, it's in that spirit that we have made progress these past 7 years. That's how we recovered from the worst economic crisis in generations. That's how we reformed our health care system and reinvented our energy sector. That's how we delivered more care and benefits to our troops coming home and our veterans. That's how we secured the freedom in every State to marry the person we love.\n",
    "\n",
    "But such progress is not inevitable. It's the result of choices we make together. And we face such choices right now. Will we respond to the changes of our time with fear, turning inward as a nation, turning against each other as a people? Or will we face the future with confidence in who we are, in what we stand for, in the incredible things that we can do together?\n",
    "\n",
    "So let's talk about the future and four big questions that I believe we as a country have to answer, regardless of who the next President is or who controls the next Congress. First, how do we give everyone a fair shot at opportunity and security in this new economy? Second, how do we make technology work for us and not against us, especially when it comes to solving urgent challenges like climate change? Third, how do we keep America safe and lead the world without becoming its policeman? And finally, how can we make our politics reflect what's best in us and not what's worst?\n",
    "\n",
    "Let me start with the economy and a basic fact: The United States of America right now has the strongest, most durable economy in the world. We're in the middle of the longest streak of private sector job creation in history. More than 14 million new jobs, the strongest 2 years of job growth since the 1990s, an unemployment rate cut in half. Our auto industry just had its best year ever. That's just part of a manufacturing surge that's created nearly 900,000 new jobs in the past 6 years. And we've done all this while cutting our deficits by almost three-quarters.\n",
    "\n",
    "Anyone claiming that America's economy is in decline is peddling fiction. Now, what is true—and the reason that a lot of Americans feel anxious—is that the economy has been changing in profound ways, changes that started long before the great recession hit, changes that have not let up.\n",
    "\n",
    "Today, technology doesn't just replace jobs on the assembly line, but any job where work can be automated. Companies in a global economy can locate anywhere, and they face tougher competition. As a result, workers have less leverage for a raise. Companies have less loyalty to their communities. And more and more wealth and income is concentrated at the very top.\n",
    "\n",
    "All these trends have squeezed workers, even when they have jobs, even when the economy is growing. It's made it harder for a hard-working family to pull itself out of poverty, harder for young people to start their careers, tougher for workers to retire when they want to. And although none of these trends are unique to America, they do offend our uniquely American belief that everybody who works hard should get a fair shot.\n",
    "\n",
    "For the past 7 years, our goal has been a growing economy that also works better for everybody. We've made progress, but we need to make more. And despite all the political arguments that we've had these past few years, there are actually some areas where Americans broadly agree.\n",
    "\n",
    "We agree that real opportunity requires every American to get the education and training they need to land a good-paying job. The bipartisan reform of No Child Left Behind was an important start, and together, we've increased early childhood education, lifted high school graduation rates to new highs, boosted graduates in fields like engineering. In the coming years, we should build on that progress, by providing pre-K for all and offering every student the hands-on computer science and math classes that make them job-ready on day one. We should recruit and support more great teachers for our kids.\n",
    "\n",
    "And we have to make college affordable for every American. No hard-working student should be stuck in the red. We've already reduced student loan payments by—to 10 percent of a borrower's income. And that's good. But now we've actually got to cut the cost of college. Providing 2 years of community college at no cost for every responsible student is one of the best ways to do that, and I'm going to keep fighting to get that started this year. It's the right thing to do.\n",
    "\n",
    "But a great education isn't all we need in this new economy. We also need benefits and protections that provide a basic measure of security. It's not too much of a stretch to say that some of the only people in America who are going to work the same job, in the same place, with a health and retirement package for 30 years are sitting in this Chamber. [Laughter] For everyone else, especially folks in their forties and fifties, saving for retirement or bouncing back from job loss has gotten a lot tougher. Americans understand that at some point in their careers, in this new economy, they may have to retool, they may have to retrain. But they shouldn't lose what they've already worked so hard to build in the process.\n",
    "\n",
    "That's why Social Security and Medicare are more important than ever. We shouldn't weaken them, we should strengthen them. And for Americans short of retirement, basic benefits should be just as mobile as everything else is today. That, by the way, is what the Affordable Care Act is all about. It's about filling the gaps in employer-based care so that when you lose a job or you go back to school or you strike out and launch that new business, you'll still have coverage. Nearly 18 million people have gained coverage so far. And in the process, health care inflation has slowed. And our businesses have created jobs every single month since it became law.\n",
    "\n",
    "Now, I'm guessing we won't agree on health care anytime soon, but—[laughter]—a little applause back there. [Laughter] Just a guess. But there should be other ways parties can work together to improve economic security. Say a hard-working American loses his job. We shouldn't just make sure that he can get unemployment insurance, we should make sure that program encourages him to retrain for a business that's ready to hire him. If that new job doesn't pay as much, there should be a system of wage insurance in place so that he can still pay his bills. And even if he's going from job to job, he should still be able to save for retirement and take his savings with him. That's the way we make the new economy work better for everybody.\n",
    "\n",
    "I also know Speaker Ryan has talked about his interest in tackling poverty. America is about giving everybody willing to work a chance, a hand up. And I'd welcome a serious discussion about strategies we can all support, like expanding tax cuts for low-income workers who don't have children.\n",
    "\n",
    "But there are some areas where—we just have to be honest—it has been difficult to find agreement over the last 7 years. And a lot of them fall under the category of what role the Government should play in making sure the system's not rigged in favor of the wealthiest and biggest corporations. And it's an honest disagreement, and the American people have a choice to make.\n",
    "\n",
    "I believe a thriving private sector is the lifeblood of our economy. I think there are outdated regulations that need to be changed. There is redtape that needs to be cut. [Applause] There you go! Yes! See? But after years now of record corporate profits, working families won't get more opportunity or bigger paychecks just by letting big banks or big oil or hedge funds make their own rules at everybody else's expense. Middle class families are not going to feel more secure because we allowed attacks on collective bargaining to go unanswered. Food stamp recipients did not cause the financial crisis; recklessness on Wall Street did. Immigrants aren't the principal reason wages haven't gone up; those decisions are made in the boardrooms that all too often put quarterly earnings over long-term returns. It's sure not the average family watching tonight that avoids paying taxes through offshore accounts. [Laughter]\n",
    "\n",
    "The point is, I believe that in this new economy, workers and startups and small businesses need more of a voice, not less. The rules should work for them. And I'm not alone in this. This year, I plan to lift up the many businesses who have figured out that doing right by their workers or their customers or their communities ends up being good for their shareholders. And I want to spread those best practices across America. That's part of a brighter future.\n",
    "\n",
    "In fact, it turns, out many of our best corporate citizens are also our most creative. And this brings me to the second big question we as a country have to answer: How do we reignite that spirit of innovation to meet our biggest challenges?\n",
    "\n",
    "Sixty years ago, when the Russians beat us into space, we didn't deny Sputnik was up there. [Laughter] We didn't argue about the science or shrink our research and development budget. We built a space program almost overnight. And 12 years later, we were walking on the Moon.\n",
    "\n",
    "Now, that spirit of discovery is in our DNA. America is Thomas Edison and the Wright Brothers and George Washington Carver. America is Grace Hopper and Katherine Johnson and Sally Ride. America is every immigrant and entrepreneur from Boston to Austin to Silicon Valley, racing to shape a better future. That's who we are.\n",
    "\n",
    "And over the past 7 years, we've nurtured that spirit. We've protected an open Internet and taken bold new steps to get more students and low-income Americans online. We've launched next-generation manufacturing hubs and online tools that give an entrepreneur everything he or she needs to start a business in a single day. But we can do so much more.\n",
    "\n",
    "Last year, Vice President Biden said that with a new moonshot, America can cure cancer. Last month, he worked with this Congress to give scientists at the National Institutes of Health the strongest resources that they've had in over a decade. Well—so tonight I'm announcing a new national effort to get it done. And because he's gone to the mat for all of us on so many issues over the past 40 years, I'm putting Joe in charge of mission control. For the loved ones we've all lost, for the families that we can still save, let's make America the country that cures cancer once and for all. What do you say, Joe? Let's make it happen.\n",
    "\n",
    "Now, medical research is critical. We need the same level of commitment when it comes to developing clean energy sources. Look, if anybody still wants to dispute the science around climate change, have at it. [Laughter] You will be pretty lonely, because you'll be debating our military, most of America's business leaders, the majority of the American people, almost the entire scientific community, and 200 nations around the world who agree it's a problem and intend to solve it. But even if the planet wasn't at stake, even if 2014 wasn't the warmest year on record—until 2015 turned out to be even hotter—why would we want to pass up the chance for American businesses to produce and sell the energy of the future? Listen, 7 years ago, we made the single biggest investment in clean energy in our history. Here are the results. In fields from Iowa to Texas, wind power is now cheaper than dirtier, conventional power. On rooftops from Arizona to New York, solar is saving Americans tens of millions of dollars a year on their energy bills and employs more Americans than coal in jobs that pay better than average. We're taking steps to give homeowners the freedom to generate and store their own energy, something, by the way, that environmentalists and Tea Partiers have teamed up to support. And meanwhile, we've cut our imports of foreign oil by nearly 60 percent and cut carbon pollution more than any other country on Earth. Gas under 2 bucks a gallon ain't bad either. [Laughter]\n",
    "\n",
    "Now we've got to accelerate the transition away from old, dirtier energy sources. Rather than subsidize the past, we should invest in the future, especially in communities that rely on fossil fuels. We do them no favor when we don't show them where the trends are going. And that's why I'm going to push to change the way we manage our oil and coal resources so that they better reflect the costs they impose on taxpayers and our planet. And that way, we put money back into those communities and put tens of thousands of Americans to work building a 21st-century transportation system.\n",
    "\n",
    "Now, none of this is going to happen overnight. And yes, there are plenty of entrenched interests who want to protect the status quo. But the jobs we'll create, the money we'll save, the planet we'll preserve—that is the kind of future our kids and our grandkids deserve. And it's within our grasp.\n",
    "\n",
    "Now, climate change is just one of many issues where our security is linked to the rest of the world. And that's why the third big question that we have to answer together is how to keep America safe and strong without either isolating ourselves or trying to nation-build everywhere there's a problem.\n",
    "\n",
    "Now, I told you earlier all the talk of America's economic decline is political hot air. Well, so is all the rhetoric you hear about our enemies getting stronger and America getting weaker. Let me tell you something: The United States of America is the most powerful nation on Earth. Period. [Applause] Period. It's not even close. [Applause] It's not even close. It's not even close. We spend more on our military than the next eight nations combined. Our troops are the finest fighting force in the history of the world. [Applause] All right. No nation attacks us directly, or our allies, because they know that's the path to ruin. Surveys show our standing around the world is higher than when I was elected to this office, and when it comes to every important international issue, people of the world do not look to Beijing or Moscow to lead. They call us. So I think it's useful to level set here, because when we don't, we don't make good decisions.\n",
    "\n",
    "Now, as someone who begins every day with an intelligence briefing, I know this is a dangerous time. But that's not primarily because of some looming superpower out there, and it's certainly not because of diminished American strength. In today's world, we're threatened less by evil empires and more by failing states.\n",
    "\n",
    "The Middle East is going through a transformation that will play out for a generation, rooted in conflicts that date back millennia. Economic headwinds are blowing in from a Chinese economy that is in significant transition. Even as their economy severely contracts, Russia is pouring resources in to prop up Ukraine and Syria, client states that they saw slipping away from their orbit. And the international system we built after World War II is now struggling to keep pace with this new reality. It's up to us, the United States of America, to help remake that system. And to do that well, it means that we've got to set priorities. Priority number one is protecting the American people and going after terrorist networks. Both Al Qaida and now ISIL pose a direct threat to our people, because in today's world, even a handful of terrorists who place no value on human life, including their own, can do a lot of damage. They use the Internet to poison the minds of individuals inside our country. Their actions undermine and destabilize our allies. We have to take them out.\n",
    "\n",
    "But as we focus on destroying ISIL, over-the-top claims that this is world war III just play into their hands. Masses of fighters on the back of pickup trucks, twisted souls plotting in apartments or garages, they pose an enormous danger to civilians; they have to be stopped. But they do not threaten our national existence. That is the story ISIL wants to tell. That's the kind of propaganda they use to recruit. We don't need to build them up to show that we're serious, and we sure don't need to push away vital allies in this fight by echoing the lie that ISIL is somehow representative of one of the world's largest religions. We just need to call them what they are: killers and fanatics who have to be rooted out, hunted down, and destroyed.\n",
    "\n",
    "And that's exactly what we're doing. For more than a year, America has led a coalition of more than 60 countries to cut off ISIL's financing, disrupt their plots, stop the flow of terrorist fighters, and stamp out their vicious ideology. With nearly 10,000 airstrikes, we're taking out their leadership, their oil, their training camps, their weapons. We're training, arming, and supporting forces who are steadily reclaiming territory in Iraq and Syria.\n",
    "\n",
    "If this Congress is serious about winning this war and wants to send a message to our troops and the world, authorize the use of military force against ISIL. Take a vote. [Applause] Take a vote. But the American people should know that with or without congressional action, ISIL will learn the same lessons as terrorists before them. If you doubt America's commitment—or mine—to see that justice is done, just ask Usama bin Laden. Ask the leader of Al Qaida in Yemen, who was taken out last year, or the perpetrator of the Benghazi attacks, who sits in a prison cell. When you come after Americans, we go after you. And it may take time, but we have long memories, and our reach has no limits.\n",
    "\n",
    "Our foreign policy has to be focused on the threat from ISIL and Al Qaida, but it can't stop there. For even without ISIL, even without Al Qaida, instability will continue for decades in many parts of the world: in the Middle East, in Afghanistan and parts of Pakistan, in parts of Central America, in Africa and Asia. Some of these places may become safe havens for new terrorist networks. Others will just fall victim to ethnic conflict or famine, feeding the next wave of refugees. The world will look to us to help solve these problems, and our answer needs to be more than tough talk or calls to carpet-bomb civilians. That may work as a TV sound bite, but it doesn't pass muster on the world stage.\n",
    "\n",
    "We also can't try to take over and rebuild every country that falls into crisis, even if it's done with the best of intentions. That's not leadership; that's a recipe for quagmire, spilling American blood and treasure that ultimately will weaken us. It's the lesson of Vietnam; it's the lesson of Iraq. And we should have learned it by now.\n",
    "\n",
    "Now, fortunately there is a smarter approach: a patient and disciplined strategy that uses every element of our national power. It says America will always act, alone if necessary, to protect our people and our allies, but on issues of global concern, we will mobilize the world to work with us and make sure other countries pull their own weight. That's our approach to conflicts like Syria, where we're partnering with local forces and leading international efforts to help that broken society pursue a lasting peace. That's why we built a global coalition, with sanctions and principled diplomacy, to prevent a nuclear-armed Iran. And as we speak, Iran has rolled back its nuclear program, shipped out its uranium stockpile, and the world has avoided another war.\n",
    "\n",
    "That's how we stopped the spread of Ebola in West Africa. Our military, our doctors, our development workers—they were heroic; they set up the platform that then allowed other countries to join in behind us and stamp out that epidemic. Hundreds of thousands, maybe a couple million, lives were saved.\n",
    "\n",
    "That's how we forged a Trans-Pacific Partnership to open markets and protect workers and the environment and advance American leadership in Asia. It cuts 18,000 taxes on products made in America, which will then support more good jobs here in America. With TPP, China does not set the rules in that region, we do. You want to show our strength in this new century? Approve this agreement. Give us the tools to enforce it. It's the right thing to do.\n",
    "\n",
    "Let me give you another example. Fifty years of isolating Cuba had failed to promote democracy. It set us back in Latin America. That's why we restored diplomatic relations, opened the door to travel and commerce, positioned ourselves to improve the lives of the Cuban people. So if you want to consolidate our leadership and credibility in the hemisphere, recognize that the cold war is over. Lift the embargo.\n",
    "\n",
    "The point is, American leadership in the 21st century is not a choice between ignoring the rest of the world—except when we kill terrorists—or occupying and rebuilding whatever society is unraveling. Leadership means a wise application of military power and rallying the world behind causes that are right. It means seeing our foreign assistance as a part of our national security, not something separate, not charity.\n",
    "\n",
    "When we lead nearly 200 nations to the most ambitious agreement in history to fight climate change, yes, that helps vulnerable countries, but it also protects our kids. When we help Ukraine defend its democracy or Colombia resolve a decades-long war, that strengthens the international order we depend on. When we help African countries feed their people and care for the sick, it's the right thing to do, and it prevents the next pandemic from reaching our shores. Right now we're on track to end the scourge of HIV/AIDS. That's within our grasp. And we have the chance to accomplish the same thing with malaria, something I'll be pushing this Congress to fund this year.\n",
    "\n",
    "That's American strength. That's American leadership. And that kind of leadership depends on the power of our example. That's why I will keep working to shut down the prison at Guantanamo. It is expensive, it is unnecessary, and it only serves as a recruitment brochure for our enemies. There's a better way.\n",
    "\n",
    "And that's why we need to reject any politics—any politics—that targets people because of race or religion. Let me just say this. This is not a matter of political correctness, this is a matter of understanding just what it is that makes us strong. The world respects us not just for our arsenal, it respects us for our diversity and our openness and the way we respect every faith.\n",
    "\n",
    "His Holiness Pope Francis told this body from the very spot that I'm standing on tonight that \"to imitate the hatred and violence of tyrants and murderers is the best way to take their place.\" When politicians insult Muslims, whether abroad or our fellow citizens, when a mosque is vandalized or a kid is called names, that doesn't make us safer. That's not telling it what—telling it like it is. It's just wrong. It diminishes us in the eyes of the world. It makes it harder to achieve our goals. It betrays who we are as a country. \"We the People.\" Our Constitution begins with those three simple words, words we've come to recognize mean all the people, not just some; words that insist we rise and fall together, that that's how we might perfect our Union. And that brings me to the fourth and maybe most important thing that I want to say tonight.\n",
    "\n",
    "The future we want—all of us want—opportunity and security for our families, a rising standard of living, a sustainable, peaceful planet for our kids—all that is within our reach. But it will only happen if we work together. It will only happen if we can have rational, constructive debates. It will only happen if we fix our politics.\n",
    "\n",
    "A better politics doesn't mean we have to agree on everything. This is a big country: different regions, different attitudes, different interests. That's one of our strengths too. Our Founders distributed power between States and branches of government and expected us to argue, just as they did, fiercely, over the size and shape of government, over commerce and foreign relations, over the meaning of liberty and the imperatives of security.\n",
    "\n",
    "But democracy does require basic bonds of trust between its citizens. It doesn't work if we think the people who disagree with us are all motivated by malice. It doesn't work if we think that our political opponents are unpatriotic or trying to weaken America. Democracy grinds to a halt without a willingness to compromise or when even basic facts are contested or when we listen only to those who agree with us. Our public life withers when only the most extreme voices get all the attention. And most of all, democracy breaks down when the average person feels their voice doesn't matter, that the system is rigged in favor of the rich or the powerful or some special interest.\n",
    "\n",
    "Too many Americans feel that way right now. It's one of the few regrets of my Presidency: that the rancor and suspicion between the parties has gotten worse instead of better. I have no doubt, a President with the gifts of Lincoln or Roosevelt might have better bridged the divide, and I guarantee, I'll keep trying to be better so long as I hold this office.\n",
    "\n",
    "But, my fellow Americans, this cannot be my task—or any President's—alone. There are a whole lot of folks in this Chamber, good people, who would like to see more cooperation, would like to see a more elevated debate in Washington, but feel trapped by the imperatives of getting elected, by the noise coming out of your base. I know; you've told me. It's the worst kept secret in Washington. And a lot of you aren't enjoying being trapped in that kind of rancor.\n",
    "\n",
    "But that means if we want a better politics—and I'm addressing the American people now—if we want a better politics, it's not enough just to change a Congressman or change a Senator or even change a President. We have to change the system to reflect our better selves.\n",
    "\n",
    "I think we've got to end the practice of drawing our congressional districts so that politicians can pick their voters and not the other way around. Let a bipartisan group do it.\n",
    "\n",
    "I believe we've got to reduce the influence of money in our politics so that a handful of families or hidden interests can't bankroll our elections. And if our existing approach to campaign finance reform can't pass muster in the courts, we need to work together to find a real solution. Because it's a problem. And most of you don't like raising money. [Laughter] I know. I've done it.\n",
    "\n",
    "We've got to make it easier to vote, not harder. We need to modernize it for the way we live now. This is America: We want to make it easier for people to participate. And over the course of this year, I intend to travel the country to push for reforms that do just that. But I can't do these things on my own. Changes in our political process—in not just who gets elected, but how they get elected—that will only happen when the American people demand it. It depends on you. That's what's meant by a government of, by, and for the people.\n",
    "\n",
    "What I'm suggesting is hard. It's a lot easier to be cynical; to accept that change is not possible and politics is hopeless and the problem is, all the folks who are elected don't care; and to believe that our voices and our actions don't matter. But if we give up now, then we forsake a better future. Those with money and power will gain greater control over the decisions that could send a young soldier to war or allow another economic disaster or roll back the equal rights and voting rights that generations of Americans have fought, even died, to secure. And then, as frustration grows, there will be voices urging us to fall back into our respective tribes, to scapegoat fellow citizens who don't look like us or pray like us or vote like we do or share the same background.\n",
    "\n",
    "We can't afford to go down that path. It won't deliver the economy we want. It will not produce the security we want. But most of all, it contradicts everything that makes us the envy of the world.\n",
    "\n",
    "So, my fellow Americans, whatever you may believe, whether you prefer one party or no party, whether you supported my agenda or fought as hard as you could against it, our collective futures depends on your willingness to uphold your duties as a citizen. To vote. To speak out. To stand up for others, especially the weak, especially the vulnerable, knowing that each of us is only here because somebody, somewhere, stood up for us. We need every American to stay active in our public life—and not just during election time—so that our public life reflects the goodness and the decency that I see in the American people every single day.\n",
    "\n",
    "It is not easy. Our brand of democracy is hard. But I can promise that a little over a year from now, when I no longer hold this office, I will be right there with you as a citizen, inspired by those voices of fairness and vision, of grit and good humor and kindness, that have helped America travel so far. Voices that help us see ourselves not, first and foremost, as Black or White or Asian or Latino, not as gay or straight, immigrant or native born, not Democrat or Republican, but as Americans first, bound by a common creed. Voices Dr. King believed would have the final word: voices of \"unarmed truth and unconditional love.\"\n",
    "\n",
    "And they're out there, those voices. They don't get a lot of attention; they don't seek a lot of fanfare; but they're busy doing the work this country needs doing. I see them everywhere I travel in this incredible country of ours. I see you, the American people. And in your daily acts of citizenship, I see our future unfolding.\n",
    "\n",
    "I see it in the worker on the assembly line who clocked extra shifts to keep his company open and the boss who pays him higher wages instead of laying him off. I see it in the dreamer who stays up late at night to finish her science project and the teacher who comes in early, maybe with some extra supplies that she bought because she knows that that young girl might someday cure a disease.\n",
    "\n",
    "I see it in the American who served his time, made bad mistakes as a child, but now is dreaming of starting over. And I see it in the business owner who gives him that second chance. The protester determined to prove that justice matters and the young cop walking the beat, treating everybody with respect, doing the brave, quiet work of keeping us safe.\n",
    "\n",
    "I see it in the soldier who gives almost everything to save his brothers, the nurse who tends to him till he can run a marathon, the community that lines up to cheer him on. It's the son who finds the courage to come out as who he is and the father whose love for that son overrides everything he's been taught.\n",
    "\n",
    "I see it in the elderly woman who will wait in line to cast her vote as long as she has to, the new citizen who casts his vote for the first time, the volunteers at the polls who believe every vote should count. Because each of them, in different ways, know how much that precious right is worth.\n",
    "\n",
    "That's the America I know. That's the country we love: clear eyed, big hearted, undaunted by challenge. Optimistic that unarmed truth and unconditional love will have the final word. That's what makes me so hopeful about our future. I believe in change because I believe in you, the American people. And that's why I stand here as confident as I have ever been that the state of our Union is strong.\n",
    "\n",
    "Thank you. God bless you. God bless the United States of America. Thank you. \"\"\""
   ]
  },
  {
   "cell_type": "markdown",
   "id": "7020c0bd",
   "metadata": {},
   "source": [
    "Q2: Use the `nltk.word_tokenize` method to implement the type-token ratio:\n",
    "\n",
    "$$\n",
    "TTR = {\\textrm{number of distinct word types} \\over \\textrm{number of word tokens}}\n",
    "$$\n",
    "\n",
    "TTR is dependent on text length (intuitively, the longer a text is, the greater chance you have of a word type repeating), so this number is only comparable between documents of identical lengths.  Calculate this measure for the first 500 words of your two documents and report the results here. Exclude tokens that are exclusively punctuation from all counts."
   ]
  },
  {
   "cell_type": "code",
   "execution_count": 5,
   "id": "eb756c1c",
   "metadata": {},
   "outputs": [],
   "source": [
    "def type_token_ratio(text, num_words = 500):\n",
    "    # NLTK implementation approach (second try)\n",
    "    text = text.lower()\n",
    "    \n",
    "    # Clean punctuation, remove new lines\n",
    "    for punct in '!#$%&()*+,./:;<=>?@[\\]^_`{|}~-—\"':\n",
    "        text = text.replace(punct, \" \").replace(\"\\n\", \" \") \n",
    "    \n",
    "    # Clean to words needed\n",
    "    text = text.split(\" \")\n",
    "    \n",
    "    text = text[:num_words]\n",
    "    \n",
    "    # Return to string for NLTK analysis\n",
    "    text = \" \".join(text)\n",
    "    \n",
    "    num_tokens = len(nltk.word_tokenize(text))\n",
    "    num_types = len(set(nltk.word_tokenize(text)))\n",
    "    \n",
    "    return num_types / num_tokens"
   ]
  },
  {
   "cell_type": "code",
   "execution_count": 6,
   "id": "6c0df09b",
   "metadata": {},
   "outputs": [
    {
     "data": {
      "text/plain": [
       "0.5398230088495575"
      ]
     },
     "execution_count": 6,
     "metadata": {},
     "output_type": "execute_result"
    }
   ],
   "source": [
    "type_token_ratio(text1)"
   ]
  },
  {
   "cell_type": "code",
   "execution_count": 7,
   "id": "0d39cd52",
   "metadata": {},
   "outputs": [
    {
     "data": {
      "text/plain": [
       "0.5532879818594104"
      ]
     },
     "execution_count": 7,
     "metadata": {},
     "output_type": "execute_result"
    }
   ],
   "source": [
    "type_token_ratio(text2)"
   ]
  },
  {
   "cell_type": "markdown",
   "id": "84ec573a",
   "metadata": {},
   "source": [
    "****"
   ]
  },
  {
   "cell_type": "markdown",
   "id": "7554c8c5",
   "metadata": {},
   "source": [
    "Now we'll implement the [Flesch-Kincaid Grade Level](https://en.wikipedia.org/wiki/Flesch–Kincaid_readability_tests#Flesch–Kincaid_grade_level), which has the following formula:\n",
    "\n",
    "$$\n",
    "0.39 \\left ( \\frac{\\mbox{total words}}{\\mbox{total sentences}} \\right ) + 11.8 \\left ( \\frac{\\mbox{total syllables}}{\\mbox{total words}} \\right ) - 15.59\n",
    "$$\n",
    "\n",
    "Use `nltk.sent_tokenize` or spacy's `sents` function for counting the number of sentences, any word tokenization method we've covered for counting the number of words, and the `get_syllable_count` function below for counting the number of syllables in a word.  Exclude tokens that are exclusively punctuation from word and syllable counts."
   ]
  },
  {
   "cell_type": "markdown",
   "id": "d62b2be7",
   "metadata": {},
   "source": [
    "For calculating the syllables, we're going to use a number of resources: the [CMU pronunciation dictionary](https://github.com/cmusphinx/cmudict), which lists the ARPABET pronunciation for a list of words, along with [g2p](https://github.com/Kyubyong/g2p), a neural model trained to predict the pronunciation for words (which we can use for words not in the CMU dictionary)."
   ]
  },
  {
   "cell_type": "code",
   "execution_count": 8,
   "id": "7e404cff",
   "metadata": {},
   "outputs": [],
   "source": [
    "arpabet = nltk.corpus.cmudict.dict()"
   ]
  },
  {
   "cell_type": "code",
   "execution_count": 9,
   "id": "dd5eea9a",
   "metadata": {},
   "outputs": [],
   "source": [
    "from g2p_en import G2p\n",
    "g2p = G2p()"
   ]
  },
  {
   "cell_type": "code",
   "execution_count": 10,
   "id": "adb9196c",
   "metadata": {},
   "outputs": [],
   "source": [
    "def get_pronunciation(word):\n",
    "    if word in arpabet:\n",
    "        # pick the first pronunciation\n",
    "        return arpabet[word][0]\n",
    "\n",
    "    else:\n",
    "        return g2p(word)\n",
    "\n",
    "def get_syllable_count(word):\n",
    "    pronunciation=get_pronunciation(word)\n",
    "    sylls=0\n",
    "    for phon in pronunciation:\n",
    "        # vowels in arpabet end in digits (indicating stress)\n",
    "        if re.search(\"\\d$\", phon) is not None:\n",
    "            sylls+=1\n",
    "    return sylls"
   ]
  },
  {
   "cell_type": "code",
   "execution_count": 11,
   "id": "9b43076b",
   "metadata": {},
   "outputs": [
    {
     "data": {
      "text/plain": [
       "2"
      ]
     },
     "execution_count": 11,
     "metadata": {},
     "output_type": "execute_result"
    }
   ],
   "source": [
    "get_syllable_count(\"Bamman\")"
   ]
  },
  {
   "cell_type": "code",
   "execution_count": 12,
   "id": "6adfab7b",
   "metadata": {},
   "outputs": [
    {
     "data": {
      "text/plain": [
       "4"
      ]
     },
     "execution_count": 12,
     "metadata": {},
     "output_type": "execute_result"
    }
   ],
   "source": [
    "get_syllable_count(\"27\")"
   ]
  },
  {
   "cell_type": "markdown",
   "id": "8cc8ed59",
   "metadata": {},
   "source": [
    "Q3. Implement Flesch-Kincaid Grade Level and report its results for your two texts.  Flesch-Kincaid relies on an implicit definition of a \"word\" and a \"sentence\", and different definitions will yield different grade level estimates. (In the problem definition above, we've already ruled out punctuation as constituing stand-alone words, and other assumptions lurk with every tokenization method). State your assumptions for the definition of \"word\" you have implemented and why they are reasonable."
   ]
  },
  {
   "cell_type": "code",
   "execution_count": 13,
   "id": "d56111b8",
   "metadata": {},
   "outputs": [],
   "source": [
    "def flesch_kincaid_grade_level(text):\n",
    "    num_sentences = len(nltk.sent_tokenize(text)) # count sentences\n",
    "    \n",
    "    # cleaning punctuation, same as above\n",
    "    for punct in '!#$%&()*+,./:;<=>?@[\\]^_`{|}~—\"':\n",
    "        text = text.replace(punct, \" \").replace(\"\\n\", \" \")\n",
    "    \n",
    "    words = nltk.word_tokenize(text) # count all words\n",
    "        \n",
    "    num_words = len(words) # count words\n",
    "    \n",
    "    num_syllables = sum([get_syllable_count(word) for word in words]) # count syllables\n",
    "    \n",
    "    return 0.39*(num_words / num_sentences) + 11.8*(num_syllables / num_words) - 15.59 "
   ]
  },
  {
   "cell_type": "code",
   "execution_count": 14,
   "id": "d970aedf",
   "metadata": {},
   "outputs": [
    {
     "data": {
      "text/plain": [
       "11.264615384615386"
      ]
     },
     "execution_count": 14,
     "metadata": {},
     "output_type": "execute_result"
    }
   ],
   "source": [
    "# Should be 11.265\n",
    "flesch_kincaid_grade_level(\"The Australian platypus is seemingly a hybrid of a mammal and reptilian creature\".lower())"
   ]
  },
  {
   "cell_type": "code",
   "execution_count": 15,
   "id": "04718a78",
   "metadata": {},
   "outputs": [
    {
     "data": {
      "text/plain": [
       "19.00850265908674"
      ]
     },
     "execution_count": 15,
     "metadata": {},
     "output_type": "execute_result"
    }
   ],
   "source": [
    "flesch_kincaid_grade_level(text1.lower())"
   ]
  },
  {
   "cell_type": "code",
   "execution_count": 16,
   "id": "e3ee45cc",
   "metadata": {},
   "outputs": [
    {
     "data": {
      "text/plain": [
       "8.868787085677969"
      ]
     },
     "execution_count": 16,
     "metadata": {},
     "output_type": "execute_result"
    }
   ],
   "source": [
    "flesch_kincaid_grade_level(text2.lower())"
   ]
  },
  {
   "cell_type": "markdown",
   "id": "12e6db12",
   "metadata": {},
   "source": [
    "**Q3 \"word\" assumptions:**\n",
    "\n",
    "Since I'm using NLTK, we're assuming all words analyzed are captured under the Penn Treebank (and we're using the same assumptions as NLTK's tokenizer). One potential issue with this is tokenizing 's separately (e.g. her's is counted as her + 's), but we will assume that it is a word for this purpose. \n",
    "\n",
    "I also assumed that hyphenated words were separate words. In this case, the text I used had hyphens to specify breaks in speech; for example, \"—[laughter]—\" and \"But there are some areas where—we just have to be honest—it has been difficult\". \n"
   ]
  }
 ],
 "metadata": {
  "kernelspec": {
   "display_name": "Python [conda env:anlp] *",
   "language": "python",
   "name": "conda-env-anlp-py"
  },
  "language_info": {
   "codemirror_mode": {
    "name": "ipython",
    "version": 3
   },
   "file_extension": ".py",
   "mimetype": "text/x-python",
   "name": "python",
   "nbconvert_exporter": "python",
   "pygments_lexer": "ipython3",
   "version": "3.8.8"
  }
 },
 "nbformat": 4,
 "nbformat_minor": 5
}
