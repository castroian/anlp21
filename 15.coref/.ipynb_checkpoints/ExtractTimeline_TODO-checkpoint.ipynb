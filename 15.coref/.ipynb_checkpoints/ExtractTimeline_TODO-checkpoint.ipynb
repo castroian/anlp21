{
 "cells": [
  {
   "cell_type": "markdown",
   "metadata": {},
   "source": [
    "This homework explores coreference resolution for the task of timeline generation: for a given biography on Wikipedia, can you extract all of the events associated with the people mentioned and create one timeline for each person?  For this homework, be sure you are using the `anlp_spacy2` anaconda environment that we set up in `CorefSetup.ipynb` (that has Spacy 2 installed, along with the neuralcoref package).\n",
    "\n",
    "Within this environment, install the wikipedia package:\n",
    "\n",
    "```pip install wikipedia```"
   ]
  },
  {
   "cell_type": "code",
   "execution_count": 2,
   "metadata": {},
   "outputs": [],
   "source": [
    "import wikipedia\n",
    "import spacy\n",
    "import neuralcoref\n",
    "import re\n",
    "import operator"
   ]
  },
  {
   "cell_type": "code",
   "execution_count": 3,
   "metadata": {},
   "outputs": [],
   "source": [
    "nlp = spacy.load('en_core_web_sm')\n",
    "coref = neuralcoref.NeuralCoref(nlp.vocab)\n",
    "nlp.add_pipe(coref, name='neuralcoref')"
   ]
  },
  {
   "cell_type": "code",
   "execution_count": 4,
   "metadata": {},
   "outputs": [],
   "source": [
    "biography = wikipedia.page(\"Harrison Ford\", auto_suggest=False)"
   ]
  },
  {
   "cell_type": "code",
   "execution_count": 5,
   "metadata": {},
   "outputs": [],
   "source": [
    "doc=nlp(biography.content)"
   ]
  },
  {
   "cell_type": "markdown",
   "metadata": {},
   "source": [
    "Q1. Create a method `extract_timeline` to construct a timeline for the subject of the Wikipedia biography; the timeline should be comprised of events (i.e., verbs) in the biography that the subject participates in and that can be grounded to a year. Your criteria:\n",
    "\n",
    "- Only include events in sentences that contain a year.\n",
    "- Only include events that the target of the Wikipedia biography is involved in.\n",
    "- Only include events where that target person is the subject or direct object of the verb.\n",
    "\n",
    "Your function should return a dict mapping a sentence where those criteria are satisfied to the date mentioned in that sentence.  For example, assume the following to be a biography of the target *Bach*:\n",
    "\n",
    "> Bach is a composer.  He was born in 1685.  He composed 6 suites for solo cello in 1717. Anna Magdalena Wilcke met him in 1721.  Handel was a contemporary and was also born in 1685. Bach's dog was born in 1723.  \n",
    "\n",
    "Your function should return the following dict:\n",
    "\n",
    "{\"He was born in 1685\": 1685, \"He composed 6 suites for solo cello in 1717\": 1717, \"Anna Magdalena Wilcke met him in 1721\": 1721}\n",
    "\n",
    "We exclude the other sentences because:\n",
    "\n",
    "- \"Bach is a composer\" does not mention a date.\n",
    "- Bach is not mentioned in \"Handel was a contemporary and was also born in 1685.\"\n",
    "- Bach is not the subject or direct object of \"Bach's dog was born in 1723\""
   ]
  },
  {
   "cell_type": "code",
   "execution_count": 260,
   "metadata": {},
   "outputs": [],
   "source": [
    "def extract_timeline(doc, subject = \"Ford\"):\n",
    "    # Looking at the Harrison Ford examples, the\n",
    "    # coref chains should just be the last name only (could be wrong)\n",
    "    \n",
    "    events={}\n",
    "    \n",
    "    # Get all coref links\n",
    "    corefs = doc._.coref_clusters\n",
    "    corefs_to_check = []\n",
    "    \n",
    "    # Find clusters that match the name\n",
    "    for cluster in corefs:\n",
    "        #if cluster.main.text in subject or subject in cluster.main.text:\n",
    "            corefs_to_check.append(cluster)\n",
    "            \n",
    "    year_sents = []\n",
    "    # For each event in the clusters to check, see if they mention a year\n",
    "    for ref in corefs_to_check:\n",
    "        for mention in ref:\n",
    "            years = re.findall(r\"\\d{4}\", mention.sent.text)\n",
    "            if years:\n",
    "                year_sents.append(mention)\n",
    "    \n",
    "    for mention in year_sents:\n",
    "        if subject in mention.root.text and (mention.root.dep_ == \"dobj\" or mention.root.dep_ == \"nsubj\") and mention.sent.text not in events.values():\n",
    "            year = int(re.findall(r\"\\d{4}\", mention.sent.text)[0])\n",
    "            events[year] = mention.sent.text\n",
    "        \n",
    "    # For each year_cluster sentence, see if the subject is the target\n",
    "    # If so, add to the dictionary\n",
    "    \n",
    "    return events"
   ]
  },
  {
   "cell_type": "markdown",
   "metadata": {},
   "source": [
    "Let's print that extracted timeline from oldest to newest events."
   ]
  },
  {
   "cell_type": "code",
   "execution_count": 261,
   "metadata": {
    "scrolled": true
   },
   "outputs": [
    {
     "name": "stdout",
     "output_type": "stream",
     "text": [
      "1942: Harrison Ford (born July 13, 1942) is an American actor.\n",
      "1960: Ford began flight training in the 1960s at Wild Rose Idlewild Airport in Wild Rose, Wisconsin, flying in a Piper PA-22 Tri-Pacer, but at $15 an hour (equivalent to $128 in 2020), he could not afford to continue the training.\n",
      "1964: In 1964, after a season of summer stock with the Belfry Players in Wisconsin, Ford traveled to Los Angeles to apply for a job in radio voice-overs.\n",
      "1969: French filmmaker Jacques Demy chose Ford for the lead role of his first American film, Model Shop (1969), but the head of Columbia Pictures thought Ford had \"no future\" in the film business and told Demy to hire a more experienced actor.\n",
      "1970: ===\n",
      "Ford began to receive bigger roles in films throughout the late 1970s, including Heroes (1977), Force 10 from Navarone (1978) and Hanover Street (1979).\n",
      "1973: Casting director and fledgling producer Fred Roos championed the young Ford and secured him an audition with George Lucas for the role of Bob Falfa, which Ford went on to play in American Graffiti (1973).\n",
      "1974: The Conversation (1974) and Apocalypse Now (1979); in the latter film, Ford played an army officer named \"G. Lucas\".\n",
      "\n",
      "\n",
      "\n",
      "1977: Ford has also appeared in several romantic comedies and dramas throughout his career, including Heroes (1977), Working Girl (1988), Sabrina (1995), Six Days, Seven Nights (1998), Random Hearts (1999), Morning Glory (2010), and The Age of Adaline (2015).\n",
      "\n",
      "1980: Ford and Flockhart live on an 800-acre (320-hectare) ranch in Jackson, Wyoming, on which he has lived since the 1980s and approximately half of which he has donated as a nature reserve.\n",
      "1983: During the June 1983 filming of Temple of Doom in London, Ford herniated a disc in his back.\n",
      "1984: Ford went on to reprise the role throughout the rest of the decade in the prequel Indiana Jones and the Temple of Doom (1984), which co-starred Spielberg's future-wife Kate Capshaw, and the sequel Indiana Jones and the Last Crusade (1989), which co-starred Sean Connery as Indy's father, Henry Jones Sr.\n",
      "1985: Ford has portrayed heroic characters in other films such as the thrillers Witness (1985), for which he received his only Academy Award nomination, The Fugitive (1993), and Air Force One (1997), as well as the historical sports drama 42 (2013).\n",
      "1990: In the late 1990s, Ford started appearing in several critically derided and/or commercially disappointing films that failed to match his earlier successes, including Six Days, Seven Nights (1998), Random Hearts (1999),\n",
      "1992: (in recognition of Harrison's work as Vice Chairman of Conservation International).Since 1992, Ford has lent his voice to a series of public service messages promoting environmental involvement for EarthShare, an American federation of environmental and conservation charities.\n",
      "1993: Ford also played leading roles in other action-based thrillers throughout the decade such as the critically acclaimed The Fugitive (1993), The Devil's Own (1997), and Air Force One (1997).\n",
      "1995: On September 7, 1995, Ford testified before the U.S. Senate Foreign Relations Committee in support of the Dalai Lama and an independent Tibet.\n",
      "2001: They are the parents of Liam (born 2001), the son she adopted before meeting Ford.\n",
      "2003: On May 30, 2003, Ford received a star on the Hollywood Walk of Fame.\n",
      "2004: In March 2004, Ford officially became chairman of the Young Eagles program of the Experimental Aircraft Association (EAA).\n",
      "2005: In July 2005, at the gathering in Oshkosh, Ford agreed to accept the position for another two years.\n",
      "2008: Ford later said he would like to star in another sequel, \"...if it didn't take another 20 years to digest.\"Other 2008 work included Crossing Over, directed by Wayne Kramer.\n",
      "2009: In 2009, Ford signed a petition calling for the release of film director Roman Polanski, who had been arrested in Switzerland in relation to his 1977 charge for drugging and raping a 13-year-old girl.\n",
      "\n",
      "\n",
      "\n",
      "2010: They married on June 15, 2010, in Santa Fe, New Mexico, where Ford was filming Cowboys & Aliens.\n",
      "2011: Also in 2011, Ford starred in Japanese commercials advertising the video game\n",
      "2013: Drake's Deception for the PlayStation 3.2013 began a trend that saw Ford accepting more diverse supporting roles.\n",
      "2014: During filming on June 11, 2014, Ford suffered what was said to be a fractured ankle when a hydraulic door fell on him.\n",
      "2015: In 2015, Ford received the Albert R. Broccoli Britannia Award for Worldwide Contribution to Entertainment from BAFTA Los Angeles.\n",
      "2016: On July 28, 2016, Ford flew the two millionth Young Eagle at the EAA AirVenture convention.\n",
      "2017: On February 13, 2017, Ford landed an Aviat Husky at John Wayne Airport in Orange County, California, on the taxiway left of runway 20L.\n",
      "2019: In 2019, on behalf of Conservation International, Ford gave an impassioned speech during the United Nations' Climate Action Summit in New York on the destruction of the Amazon rainforest and its effect on climate change for the rest of the world.\n",
      "2020: Along with Mark Hamill, Ford worked with the anti-Trump Republican group The Lincoln Project to produce and narrate a 2020 election ad attacking Trump's disparaging of Anthony Fauci.\n"
     ]
    }
   ],
   "source": [
    "events=extract_timeline(doc)\n",
    "\n",
    "# Note: couldn't get provided code to show the dict correctly, so using a different version\n",
    "for key in sorted(events):\n",
    "    print(\"%s: %s\" % (key, events[key]))\n",
    "\n",
    "#for k,v in sorted(events.items(), key=operator.itemgetter(1)):\n",
    "    #print(\"%s\\t%s\" % (v, k))"
   ]
  },
  {
   "cell_type": "code",
   "execution_count": null,
   "metadata": {},
   "outputs": [],
   "source": []
  }
 ],
 "metadata": {
  "kernelspec": {
   "display_name": "Python 3 (ipykernel)",
   "language": "python",
   "name": "python3"
  },
  "language_info": {
   "codemirror_mode": {
    "name": "ipython",
    "version": 3
   },
   "file_extension": ".py",
   "mimetype": "text/x-python",
   "name": "python",
   "nbconvert_exporter": "python",
   "pygments_lexer": "ipython3",
   "version": "3.7.11"
  }
 },
 "nbformat": 4,
 "nbformat_minor": 2
}
