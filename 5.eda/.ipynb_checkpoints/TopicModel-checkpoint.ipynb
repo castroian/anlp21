{
 "cells": [
  {
   "cell_type": "markdown",
   "metadata": {},
   "source": [
    "In this notebook we'll explore topic modeling to discover broad themes in a collection of movie summaries."
   ]
  },
  {
   "cell_type": "code",
   "execution_count": 1,
   "metadata": {},
   "outputs": [
    {
     "name": "stderr",
     "output_type": "stream",
     "text": [
      "[nltk_data] Downloading package stopwords to\n",
      "[nltk_data]     /Users/castroian/nltk_data...\n",
      "[nltk_data]   Package stopwords is already up-to-date!\n"
     ]
    }
   ],
   "source": [
    "import nltk\n",
    "import re\n",
    "import gensim\n",
    "from gensim import corpora\n",
    "import operator\n",
    "\n",
    "nltk.download('stopwords')\n",
    "from nltk.corpus import stopwords\n",
    "\n",
    "import numpy as np\n",
    "import random\n",
    "\n",
    "random.seed(1)"
   ]
  },
  {
   "cell_type": "code",
   "execution_count": 4,
   "metadata": {},
   "outputs": [],
   "source": [
    "def read_stopwords(filename):\n",
    "    stopwords={}\n",
    "    with open(filename) as file:\n",
    "        for line in file:\n",
    "            stopwords[line.rstrip()]=1\n",
    "    return stopwords"
   ]
  },
  {
   "cell_type": "markdown",
   "metadata": {},
   "source": [
    "Since we're running topic modeling on texts with lots of names, we'll add the Jockers list of stopwords (which includes character names) to our stoplist."
   ]
  },
  {
   "cell_type": "code",
   "execution_count": 5,
   "metadata": {},
   "outputs": [],
   "source": [
    "stop_words = {k:1 for k in stopwords.words('english')}\n",
    "# create dict of key:1 for all words in nltk stopwords\n",
    "stop_words.update(read_stopwords(\"../data/jockers.stopwords\"))\n",
    "# add jockers words\n",
    "stop_words[\"'s\"]=1 \n",
    "stop_words=list(stop_words.keys())"
   ]
  },
  {
   "cell_type": "code",
   "execution_count": 7,
   "metadata": {},
   "outputs": [],
   "source": [
    "def filter(word, stopwords):\n",
    "    \n",
    "    \"\"\" Function to exclude words from a text \"\"\"\n",
    "    \n",
    "    # no stopwords\n",
    "    if word in stopwords:\n",
    "        return False\n",
    "    \n",
    "    # has to contain at least one letter\n",
    "    if re.search(\"[A-Za-z]\", word) is not None:\n",
    "        return True\n",
    "    \n",
    "    return False"
   ]
  },
  {
   "cell_type": "code",
   "execution_count": 8,
   "metadata": {},
   "outputs": [],
   "source": [
    "def read_docs(plotFile, metadataFile, stopwords):\n",
    "    \n",
    "    names={}\n",
    "    box={}\n",
    "    \n",
    "    with open(metadataFile, encoding=\"utf-8\") as file:\n",
    "        for line in file:\n",
    "            cols=line.rstrip().split(\"\\t\")\n",
    "            idd=cols[0]\n",
    "            name=cols[2]\n",
    "            boxoffice=cols[4]\n",
    "            if len(boxoffice) != 0:\n",
    "                box[idd]=int(boxoffice)\n",
    "                names[idd]=name\n",
    "    \n",
    "    n=5000\n",
    "    target_movies={}\n",
    "\n",
    "\n",
    "    sorted_box = sorted(box.items(), key=operator.itemgetter(1), reverse=True)\n",
    "    for k, v in sorted_box[:n]:\n",
    "        target_movies[k]=names[k]\n",
    "    \n",
    "    docs=[]\n",
    "    names=[]\n",
    "   \n",
    "    with open(plotFile, encoding=\"utf-8\") as file:\n",
    "        for line in file:\n",
    "            cols=line.rstrip().split(\"\\t\")\n",
    "            idd=cols[0]\n",
    "            text=cols[1]\n",
    "            \n",
    "            if idd in target_movies:\n",
    "                tokens=nltk.word_tokenize(text.lower())\n",
    "                tokens=[x for x in tokens if filter(x, stopwords)]\n",
    "                docs.append(tokens)\n",
    "                name=target_movies[idd]\n",
    "                names.append(name)\n",
    "    return docs, names"
   ]
  },
  {
   "cell_type": "markdown",
   "metadata": {},
   "source": [
    "We'll read in summaries of the 5,000 movies with the highest box office revenues."
   ]
  },
  {
   "cell_type": "code",
   "execution_count": 9,
   "metadata": {},
   "outputs": [],
   "source": [
    "metadataFile=\"../data/movie.metadata.tsv\"\n",
    "plotFile=\"../data/plot_summaries.txt\"\n",
    "data, doc_names=read_docs(plotFile, metadataFile, stop_words)"
   ]
  },
  {
   "cell_type": "markdown",
   "metadata": {},
   "source": [
    "We will convert the movie summaries into a bag-of-words representation using gensim's [corpora.dictionary](https://radimrehurek.com/gensim/corpora/dictionary.html) methods."
   ]
  },
  {
   "cell_type": "code",
   "execution_count": 10,
   "metadata": {},
   "outputs": [],
   "source": [
    "# Create vocab from data; restrict vocab to only the top 10K terms that show up in at least 5 documents \n",
    "# and no more than 50% of all documents\n",
    "\n",
    "dictionary = corpora.Dictionary(data)\n",
    "dictionary.filter_extremes(no_below=5, no_above=.5, keep_n=10000)"
   ]
  },
  {
   "cell_type": "code",
   "execution_count": 11,
   "metadata": {},
   "outputs": [],
   "source": [
    "# Replace dataset with numeric ids words in vocab (and exclude all other words)\n",
    "corpus = [dictionary.doc2bow(text) for text in data]"
   ]
  },
  {
   "cell_type": "code",
   "execution_count": 12,
   "metadata": {},
   "outputs": [],
   "source": [
    "num_topics=20"
   ]
  },
  {
   "cell_type": "markdown",
   "metadata": {},
   "source": [
    "Now let's run a topic model on this data using gensim's built-in LDA."
   ]
  },
  {
   "cell_type": "code",
   "execution_count": 14,
   "metadata": {},
   "outputs": [],
   "source": [
    "lda_model = gensim.models.ldamodel.LdaModel(corpus=corpus,\n",
    "                                           id2word=dictionary,\n",
    "                                           num_topics=num_topics, \n",
    "                                           passes=10,\n",
    "                                           alpha='auto')"
   ]
  },
  {
   "cell_type": "markdown",
   "metadata": {},
   "source": [
    "We can get a sense of what the topics are by printing the top 10 words with highest $P(word \\mid topic)$ for each topic"
   ]
  },
  {
   "cell_type": "code",
   "execution_count": 15,
   "metadata": {
    "scrolled": true
   },
   "outputs": [
    {
     "name": "stdout",
     "output_type": "stream",
     "text": [
      "topic 0:\thouse room father finds night mother begins body tells goes\n",
      "topic 1:\tbond plane white snow flight bomb airport penguins escape master\n",
      "topic 2:\tgang police men boone train group town escape killed west\n",
      "topic 3:\tmuseum kane phantom fraternity pink pierce mars baron fowler adams\n",
      "topic 4:\tdoc dracula satan ghost hell god soul connor kill priest\n",
      "topic 5:\tcase prison murder president dr. judge trial evidence court cia\n",
      "topic 6:\tpolice money car fbi bank train kill agent drug smith\n",
      "topic 7:\tmr. mrs. children find boys friends kids christmas family help\n",
      "topic 8:\tcastle dragon sword infected silver vampire stone kill treasure magic\n",
      "topic 9:\tde duke jaguar beck la gibson flynn cardinal bowman pope\n",
      "topic 10:\tescape team dr. find group world rescue island kill killed\n",
      "topic 11:\tearth alien space ash planet robot aliens ship find city\n",
      "topic 12:\tfilm band show music dance stage performance concert studio club\n",
      "topic 13:\ttells time day night asks n't goes party house leaves\n",
      "topic 14:\tfather family mother life years daughter time film begins eventually\n",
      "topic 15:\tarmy ship war soldiers captain crew men general orders mission\n",
      "topic 16:\tpolice car killed kill gun tells find killer shoots house\n",
      "topic 17:\tcompany film miller president work state easy public cooper senator\n",
      "topic 18:\tschool game team high win play fight students coach football\n",
      "topic 19:\tbaby evil circus price zoo oz potion griffin animals book\n"
     ]
    }
   ],
   "source": [
    "for i in range(num_topics):\n",
    "    print(\"topic %s:\\t%s\" % (i, ' '.join([term for term, freq in lda_model.show_topic(i, topn=10)])))"
   ]
  },
  {
   "cell_type": "markdown",
   "metadata": {},
   "source": [
    "Another way of understanding topics is to print out the documents that have the highest topic representation -- i.e., for a given topic $k$, the documents with highest $P(topic=k | document)$.  How much do the documents listed here align with your understanding of the topics?"
   ]
  },
  {
   "cell_type": "code",
   "execution_count": 16,
   "metadata": {},
   "outputs": [
    {
     "name": "stdout",
     "output_type": "stream",
     "text": [
      "house room father finds night mother begins body tells goes\n",
      "\n",
      "0\t0.952\tParanormal Activity 4\n",
      "0\t0.952\tThe Haunting in Connecticut\n",
      "0\t0.927\tParanormal Activity 3\n",
      "0\t0.909\tA Nightmare on Elm Street 2: Freddy's Revenge\n",
      "0\t0.908\tThe Blair Witch Project\n",
      "\n",
      "bond plane white snow flight bomb airport penguins escape master\n",
      "\n",
      "1\t0.864\tBatman Forever\n",
      "1\t0.849\tSnakes on a Plane\n",
      "1\t0.849\tNever Say Never Again\n",
      "1\t0.750\tFrom Russia with Love\n",
      "1\t0.748\tOctopussy\n",
      "\n",
      "gang police men boone train group town escape killed west\n",
      "\n",
      "2\t0.843\tDeuces Wild\n",
      "2\t0.802\tAssault on Precinct 13\n",
      "2\t0.791\tGood Morning, Vietnam\n",
      "2\t0.784\tThe Warriors\n",
      "2\t0.743\tButch Cassidy and the Sundance Kid\n",
      "\n",
      "museum kane phantom fraternity pink pierce mars baron fowler adams\n",
      "\n",
      "3\t0.682\tNight at the Museum: Battle of the Smithsonian\n",
      "3\t0.579\tThe First Great Train Robbery\n",
      "3\t0.470\tThe Kid\n",
      "3\t0.377\tOh, God! Book II\n",
      "3\t0.323\tNight at the Museum\n",
      "\n",
      "doc dracula satan ghost hell god soul connor kill priest\n",
      "\n",
      "4\t0.765\tVan Helsing\n",
      "4\t0.760\tEnd of Days\n",
      "4\t0.564\tThe Restless\n",
      "4\t0.534\tDracula 2000\n",
      "4\t0.477\tOmen III: The Final Conflict\n",
      "\n",
      "case prison murder president dr. judge trial evidence court cia\n",
      "\n",
      "5\t0.792\tMurder in the First\n",
      "5\t0.584\tChangeling\n",
      "5\t0.561\tFrom the Hip\n",
      "5\t0.560\tSneakers\n",
      "5\t0.546\tLast Dance\n",
      "\n",
      "police money car fbi bank train kill agent drug smith\n",
      "\n",
      "6\t0.957\tEye for an Eye\n",
      "6\t0.908\tFled\n",
      "6\t0.885\t2 Fast 2 Furious\n",
      "6\t0.867\tStreet Kings\n",
      "6\t0.836\tThe Amateur\n",
      "\n",
      "mr. mrs. children find boys friends kids christmas family help\n",
      "\n",
      "7\t0.894\tSesame Street presents Follow That Bird\n",
      "7\t0.791\tLost & Found\n",
      "7\t0.712\tFat Albert\n",
      "7\t0.692\tBlind Date\n",
      "7\t0.691\tBébé's Kids\n",
      "\n",
      "castle dragon sword infected silver vampire stone kill treasure magic\n",
      "\n",
      "8\t0.857\tDeathstalker\n",
      "8\t0.767\tYear One\n",
      "8\t0.712\tGladiator\n",
      "8\t0.658\tBlade\n",
      "8\t0.629\tVolkodav from the Grey Hound Clan\n",
      "\n",
      "de duke jaguar beck la gibson flynn cardinal bowman pope\n",
      "\n",
      "9\t0.767\tThe Mask of Zorro\n",
      "9\t0.589\tThe Three Musketeers\n",
      "9\t0.532\tAnonymous\n",
      "9\t0.383\tScaramouche\n",
      "9\t0.344\tA Midsummer Night's Dream\n",
      "\n",
      "escape team dr. find group world rescue island kill killed\n",
      "\n",
      "10\t0.893\tThe Thing\n",
      "10\t0.830\tDeepstar Six\n",
      "10\t0.816\tBats\n",
      "10\t0.793\tResident Evil: Retribution\n",
      "10\t0.765\tFantastic Voyage\n",
      "\n",
      "earth alien space ash planet robot aliens ship find city\n",
      "\n",
      "11\t0.939\tPokémon: Spell Of The Unown\n",
      "11\t0.866\tDinosaur\n",
      "11\t0.865\tAstro Boy\n",
      "11\t0.756\tFinal Fantasy: The Spirits Within\n",
      "11\t0.754\tHercules\n",
      "\n",
      "film band show music dance stage performance concert studio club\n",
      "\n",
      "12\t0.958\tSatisfaction\n",
      "12\t0.913\tA Chorus Line\n",
      "12\t0.878\tStill Smokin'\n",
      "12\t0.809\tThat Thing You Do!\n",
      "12\t0.720\tThe Doors\n",
      "\n",
      "tells time day night asks n't goes party house leaves\n",
      "\n",
      "13\t0.995\tBoomerang\n",
      "13\t0.994\tLast Night\n",
      "13\t0.990\tElegy\n",
      "13\t0.986\tMy Giant\n",
      "13\t0.961\tGreenberg\n",
      "\n",
      "father family mother life years daughter time film begins eventually\n",
      "\n",
      "14\t0.993\tThe Road Home\n",
      "14\t0.982\tMonsoon Wedding\n",
      "14\t0.979\tYentl\n",
      "14\t0.978\tChildren of a Lesser God\n",
      "14\t0.973\tA Thousand Acres\n",
      "\n",
      "army ship war soldiers captain crew men general orders mission\n",
      "\n",
      "15\t0.903\tThe Steel Helmet\n",
      "15\t0.901\tThe Final Countdown\n",
      "15\t0.876\tThe Hunt for Red October\n",
      "15\t0.873\tThe Thin Red Line\n",
      "15\t0.855\tThe Bridge on the River Kwai\n",
      "\n",
      "police car killed kill gun tells find killer shoots house\n",
      "\n",
      "16\t0.973\tPanic Room\n",
      "16\t0.926\tThe Collector\n",
      "16\t0.925\tVacancy\n",
      "16\t0.921\tI Saw the Devil\n",
      "16\t0.891\tFreebie and The Bean\n",
      "\n",
      "company film miller president work state easy public cooper senator\n",
      "\n",
      "17\t0.891\tWithout a Clue\n",
      "17\t0.839\tOther People's Money\n",
      "17\t0.837\tSwing Vote\n",
      "17\t0.825\tWelcome to Mooseport\n",
      "17\t0.820\tMade in Dagenham\n",
      "\n",
      "school game team high win play fight students coach football\n",
      "\n",
      "18\t0.877\tBad News Bears\n",
      "18\t0.750\tForever the Moment\n",
      "18\t0.733\tMiracle\n",
      "18\t0.728\tRebound\n",
      "18\t0.706\tEddie\n",
      "\n",
      "baby evil circus price zoo oz potion griffin animals book\n",
      "\n",
      "19\t0.944\tSuperBabies: Baby Geniuses 2\n",
      "19\t0.469\tNo Mercy\n",
      "19\t0.413\tThe Hunchback of Notre Dame\n",
      "19\t0.386\tZookeeper\n",
      "19\t0.376\tAsterix and Obelix vs Caesar\n",
      "\n"
     ]
    }
   ],
   "source": [
    "topic_model=lda_model \n",
    "\n",
    "topic_docs=[]\n",
    "for i in range(num_topics):\n",
    "    topic_docs.append({})\n",
    "for doc_id in range(len(corpus)):\n",
    "    doc_topics=topic_model.get_document_topics(corpus[doc_id])\n",
    "    for topic_num, topic_prob in doc_topics:\n",
    "        topic_docs[topic_num][doc_id]=topic_prob\n",
    "\n",
    "for i in range(num_topics):\n",
    "    print(\"%s\\n\" % ' '.join([term for term, freq in topic_model.show_topic(i, topn=10)]))\n",
    "    sorted_x = sorted(topic_docs[i].items(), key=operator.itemgetter(1), reverse=True)\n",
    "    for k, v in sorted_x[:5]:\n",
    "        print(\"%s\\t%.3f\\t%s\" % (i,v,doc_names[k]))\n",
    "    print()\n",
    "    \n",
    "    "
   ]
  },
  {
   "cell_type": "code",
   "execution_count": null,
   "metadata": {},
   "outputs": [],
   "source": []
  }
 ],
 "metadata": {
  "kernelspec": {
   "display_name": "Python 3",
   "language": "python",
   "name": "python3"
  },
  "language_info": {
   "codemirror_mode": {
    "name": "ipython",
    "version": 3
   },
   "file_extension": ".py",
   "mimetype": "text/x-python",
   "name": "python",
   "nbconvert_exporter": "python",
   "pygments_lexer": "ipython3",
   "version": "3.8.8"
  }
 },
 "nbformat": 4,
 "nbformat_minor": 2
}
