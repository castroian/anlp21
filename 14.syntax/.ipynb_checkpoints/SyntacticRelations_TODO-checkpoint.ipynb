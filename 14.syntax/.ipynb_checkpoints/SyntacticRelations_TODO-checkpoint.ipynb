{
 "cells": [
  {
   "cell_type": "markdown",
   "metadata": {},
   "source": [
    "This notebook explores dependency parsing by identifying the actions and objects that are characteristically associated with male and female characters."
   ]
  },
  {
   "cell_type": "code",
   "execution_count": 1,
   "metadata": {},
   "outputs": [],
   "source": [
    "import spacy, math\n",
    "from collections import Counter\n",
    "import operator"
   ]
  },
  {
   "cell_type": "code",
   "execution_count": 2,
   "metadata": {},
   "outputs": [],
   "source": [
    "nlp = spacy.load('en_core_web_sm')"
   ]
  },
  {
   "cell_type": "markdown",
   "metadata": {},
   "source": [
    "We'll run seven novels by Jane Austen through spacy (this will take a few minutes)."
   ]
  },
  {
   "cell_type": "code",
   "execution_count": 3,
   "metadata": {},
   "outputs": [
    {
     "name": "stdout",
     "output_type": "stream",
     "text": [
      "../data/fiction/emma.txt\n",
      "../data/fiction/lady_susan.txt\n",
      "../data/fiction/mansfield_park.txt\n",
      "../data/fiction/northanger_abbey.txt\n",
      "../data/fiction/persuasion.txt\n",
      "../data/fiction/pride.txt\n",
      "../data/fiction/sense_and_sensibility.txt\n"
     ]
    }
   ],
   "source": [
    "filenames=[\"../data/fiction/emma.txt\", \"../data/fiction/lady_susan.txt\", \"../data/fiction/mansfield_park.txt\", \"../data/fiction/northanger_abbey.txt\", \"../data/fiction/persuasion.txt\", \"../data/fiction/pride.txt\", \"../data/fiction/sense_and_sensibility.txt\"]\n",
    "all_tokens=[]\n",
    "for filename in filenames:\n",
    "    print(filename)\n",
    "    data=open(filename, encoding=\"utf-8\").read()\n",
    "    tokens=nlp(data)\n",
    "    all_tokens.extend(tokens)"
   ]
  },
  {
   "cell_type": "code",
   "execution_count": 4,
   "metadata": {},
   "outputs": [
    {
     "name": "stdout",
     "output_type": "stream",
     "text": [
      "972808\n"
     ]
    }
   ],
   "source": [
    "print (len(all_tokens))"
   ]
  },
  {
   "cell_type": "code",
   "execution_count": 5,
   "metadata": {},
   "outputs": [],
   "source": [
    "def test(maleCounter, femaleCounter, display=25):\n",
    "    \n",
    "    \"\"\" Function that takes two Counter objects as inputs and prints out a ranked list of terms\n",
    "    more characteristic of the first counter than the second.  Here we'll use log-odds\n",
    "    with an uninformative prior (from Monroe et al 2008, \"Fightin Words\", eqn. 22) as our metric.\n",
    "    \n",
    "    \"\"\"\n",
    "    \n",
    "    vocab=dict(maleCounter) \n",
    "    vocab.update(dict(femaleCounter))\n",
    "    maleSum=sum(maleCounter.values())\n",
    "    femaleSum=sum(femaleCounter.values())\n",
    "\n",
    "    ranks={}\n",
    "    alpha=0.01\n",
    "    alphaV=len(vocab)*alpha\n",
    "        \n",
    "    for word in vocab:\n",
    "        \n",
    "        log_odds_ratio=math.log( (maleCounter[word] + alpha) / (maleSum+alphaV-maleCounter[word]-alpha) ) - math.log( (femaleCounter[word] + alpha) / (femaleSum+alphaV-femaleCounter[word]-alpha) )\n",
    "        variance=1./(maleCounter[word] + alpha) + 1./(femaleCounter[word] + alpha)\n",
    "        \n",
    "        ranks[word]=log_odds_ratio/math.sqrt(variance)\n",
    "\n",
    "    sorted_x = sorted(ranks.items(), key=operator.itemgetter(1), reverse=True)\n",
    "    \n",
    "    print(\"Most male:\")\n",
    "    for k,v in sorted_x[:display]:\n",
    "        print(\"%.3f\\t%s\" % (v,k))\n",
    "    \n",
    "    print(\"\\nMost female:\")\n",
    "    for k,v in reversed(sorted_x[-display:]):\n",
    "        print(\"%.3f\\t%s\" % (v,k))"
   ]
  },
  {
   "cell_type": "markdown",
   "metadata": {},
   "source": [
    "Spacy uses the [ClearNLP dependency labels](https://github.com/clir/clearnlp-guidelines/blob/master/md/specifications/dependency_labels.md), which are very close to the Stanford typed dependencies.  See the [Stanford dependencies manual](http://people.ischool.berkeley.edu/~dbamman/DependencyManual.pdf) for more information about each tag.  Parse information is contained in the spacy token object; see the following for which attributes encode the token text, idx (position in sentence), part of speech, and dependency relation.  The syntactic head for a token is another token given in `token.head` (where all of those same token attributes are accessible)."
   ]
  },
  {
   "cell_type": "code",
   "execution_count": 6,
   "metadata": {},
   "outputs": [
    {
     "name": "stdout",
     "output_type": "stream",
     "text": [
      "He\t0\tPRP\tnsubj\tstarted\t3\tVBD\n",
      "started\t3\tVBD\tROOT\tstarted\t3\tVBD\n",
      "his\t11\tPRP$\tposs\tcar\t15\tNN\n",
      "car\t15\tNN\tdobj\tstarted\t3\tVBD\n",
      ".\t18\t.\tpunct\tstarted\t3\tVBD\n"
     ]
    }
   ],
   "source": [
    "testDoc=nlp(\"He started his car.\")\n",
    "for token in testDoc:\n",
    "    print(\"%s\\t%s\\t%s\\t%s\\t%s\\t%s\\t%s\" % (token.text, token.idx, token.tag_, token.dep_, token.head.text, token.head.idx, token.head.tag_))\n"
   ]
  },
  {
   "cell_type": "markdown",
   "metadata": {},
   "source": [
    "Q1: Find the verbs that men are more characteristically the *subject* of than women.  Feel free to only consider subjects that are \"he\" and \"she\" pronouns.  This function should return two Counter objects (`maleCounter` and `femaleCounter`) which counts the number of times a given verb has \"he\" (`maleCounter`) and \"she\" (`femaleCounter`) as its syntactic subject."
   ]
  },
  {
   "cell_type": "code",
   "execution_count": 201,
   "metadata": {},
   "outputs": [],
   "source": [
    "def count_subjects():\n",
    "    maleCounter=Counter()\n",
    "    femaleCounter=Counter()\n",
    "    \n",
    "    subjects = [tkn for tkn in all_tokens if tkn.dep_ == \"nsubj\"]\n",
    "    \n",
    "    for sbj in subjects:\n",
    "        if sbj.text.lower() == \"he\" and \"VB\" in sbj.head.tag_:\n",
    "            maleCounter[sbj.head.text.lower()] += 1\n",
    "        elif sbj.text.lower() == \"she\" and \"VB\" in sbj.head.tag_:\n",
    "            femaleCounter[sbj.head.text.lower()] += 1\n",
    "    \n",
    "    return maleCounter, femaleCounter"
   ]
  },
  {
   "cell_type": "code",
   "execution_count": 202,
   "metadata": {},
   "outputs": [
    {
     "name": "stdout",
     "output_type": "stream",
     "text": [
      "Most male:\n",
      "6.718\tis\n",
      "5.243\treplied\n",
      "4.915\tcome\n",
      "4.723\ttold\n",
      "4.699\tcame\n",
      "4.419\tsaid\n",
      "4.053\tseemed\n",
      "3.521\thas\n",
      "3.514\tleft\n",
      "3.501\tdone\n",
      "\n",
      "Most female:\n",
      "-7.653\tfelt\n",
      "-5.321\tsaw\n",
      "-4.333\tknew\n",
      "-4.203\theard\n",
      "-4.016\tfound\n",
      "-3.597\tcried\n",
      "-3.302\twas\n",
      "-3.097\thelp\n",
      "-3.034\tthought\n",
      "-2.948\thad\n"
     ]
    }
   ],
   "source": [
    "male, female=count_subjects()\n",
    "test(male, female, display=10)"
   ]
  },
  {
   "cell_type": "markdown",
   "metadata": {},
   "source": [
    "Q2: Find the verbs that men are more characteristically the *object* of than women.  Feel free to only consider objects that are \"him\" and \"her\" pronouns.  This function should return two Counter objects (`maleCounter` and `femaleCounter`) which counts the number of times a given verb has \"he\" (`maleCounter`) and \"she\" (`femaleCounter`) as its syntactic direct object. "
   ]
  },
  {
   "cell_type": "code",
   "execution_count": 203,
   "metadata": {},
   "outputs": [],
   "source": [
    "def count_objects():\n",
    "    maleCounter=Counter()\n",
    "    femaleCounter=Counter()\n",
    "\n",
    "    objects = [tkn for tkn in all_tokens if tkn.dep_ == \"dobj\"]\n",
    "    \n",
    "    for obj in objects:\n",
    "        if obj.text.lower() == \"he\" and \"VB\" in obj.head.tag_:\n",
    "            maleCounter[obj.head.text.lower()] += 1\n",
    "        elif obj.text.lower() == \"she\" and \"VB\" in obj.head.tag_:\n",
    "            femaleCounter[obj.head.text.lower()] += 1\n",
    "    \n",
    "    return maleCounter, femaleCounter"
   ]
  },
  {
   "cell_type": "code",
   "execution_count": 204,
   "metadata": {
    "scrolled": true
   },
   "outputs": [
    {
     "name": "stdout",
     "output_type": "stream",
     "text": [
      "Most male:\n",
      "2.034\treplied\n",
      "1.557\tcried\n",
      "0.521\tadded\n",
      "0.508\tcontinued\n",
      "0.448\tknow\n",
      "0.377\tbegged\n",
      "0.377\tdiverted\n",
      "0.377\tresumed\n",
      "0.377\ttrust\n",
      "0.377\tsay\n",
      "\n",
      "Most female:\n",
      "-1.462\tsaid\n",
      "-0.620\tthought\n",
      "-0.620\tfancied\n",
      "-0.620\treturned\n",
      "-0.613\thas\n",
      "-0.547\tassured\n",
      "-0.547\tsat\n",
      "-0.547\tfinding\n",
      "-0.547\tsaying\n",
      "-0.547\twishing\n"
     ]
    }
   ],
   "source": [
    "male, female=count_objects()\n",
    "test(male, female, display=10)"
   ]
  },
  {
   "cell_type": "markdown",
   "metadata": {},
   "source": [
    "Q3: Find the objects that are *possessed* more frequently by men than women.  Feel free to only consider possessors that are \"his\" and \"her\" pronouns.   This function should return two Counter objects (`maleCounter` and `femaleCounter`) which counts the number of times a given term is possessed by \"he\" (`maleCounter`) and \"she\" (`femaleCounter`)."
   ]
  },
  {
   "cell_type": "code",
   "execution_count": 227,
   "metadata": {},
   "outputs": [],
   "source": [
    "def count_possessions():\n",
    "    maleCounter=Counter()\n",
    "    femaleCounter=Counter()\n",
    "\n",
    "    possessed = [tkn for tkn in all_tokens if tkn.dep_ == \"poss\"]\n",
    "    \n",
    "    for poss in possessed:\n",
    "        if poss.text.lower() == \"his\":\n",
    "            maleCounter[poss.head.text.lower()] += 1\n",
    "        elif poss.text.lower() == \"her\":\n",
    "            femaleCounter[poss.head.text.lower()] += 1\n",
    "    \n",
    "    return maleCounter, femaleCounter"
   ]
  },
  {
   "cell_type": "code",
   "execution_count": 228,
   "metadata": {},
   "outputs": [
    {
     "name": "stdout",
     "output_type": "stream",
     "text": [
      "Most male:\n",
      "4.430\tsisters\n",
      "4.369\tattentions\n",
      "4.177\thouse\n",
      "4.150\tbeing\n",
      "4.118\treturn\n",
      "3.921\tname\n",
      "3.555\thorse\n",
      "3.551\tson\n",
      "3.472\tattachment\n",
      "3.347\tcharacter\n",
      "\n",
      "Most female:\n",
      "-7.129\tmother\n",
      "-6.184\tsister\n",
      "-4.995\taunt\n",
      "-4.568\teyes\n",
      "-4.130\tuncle\n",
      "-3.700\theart\n",
      "-3.677\tspirits\n",
      "-3.564\troom\n",
      "-3.179\tthoughts\n",
      "-3.120\thand\n"
     ]
    }
   ],
   "source": [
    "male, female=count_possessions()\n",
    "test(male, female, display=10)"
   ]
  },
  {
   "cell_type": "markdown",
   "metadata": {},
   "source": [
    "Q4: Find the actions that are men do *to women* more frequently than women do *to men*.  Feel free to only consider subjects and objects that are \"she\"/\"he\"/\"her\"/\"him\" pronouns.   This function should return two Counter objects (`maleCounter` and `femaleCounter`) which counts the number of times a given verb has \"he\" as the subject and \"her\" as the object (`maleCounter`) and \"she\" as the subject and \"him\" as the object (`femaleCounter`)."
   ]
  },
  {
   "cell_type": "code",
   "execution_count": 229,
   "metadata": {},
   "outputs": [],
   "source": [
    "def count_SVO_tuples():\n",
    "    maleCounter=Counter()\n",
    "    femaleCounter=Counter()\n",
    "    \n",
    "    subjects = [tkn for tkn in all_tokens if tkn.dep_ == \"nsubj\"]\n",
    "    objects = [tkn for tkn in all_tokens if tkn.dep_ == \"dobj\"]\n",
    "    \n",
    "    # Finding verb indices\n",
    "    sbj_m = [tkn.head.idx for tkn in subjects if tkn.text == \"he\"]\n",
    "    sbj_f = [tkn.head.idx for tkn in subjects if tkn.text == \"she\"]\n",
    "    \n",
    "    obj_m = [tkn.head.idx for tkn in objects if tkn.text == \"her\"]\n",
    "    obj_f = [tkn.head.idx for tkn in objects if tkn.text == \"him\"]\n",
    "    \n",
    "    m_verb_idx = [idx for idx in obj_m if idx in sbj_m]\n",
    "    f_verb_idx = [idx for idx in obj_f if idx in sbj_f]\n",
    "    \n",
    "    m_verbs = [tkn for tkn in all_tokens if tkn.idx in m_verb_idx and \"VB\" in tkn.tag_]\n",
    "    f_verbs = [tkn for tkn in all_tokens if tkn.idx in f_verb_idx and \"VB\" in tkn.tag_]\n",
    "    \n",
    "    for verb in m_verbs:\n",
    "        maleCounter[verb.text.lower()] += 1\n",
    "    \n",
    "    for verb in f_verbs:\n",
    "        femaleCounter[verb.text.lower()] += 1\n",
    "                \n",
    "    return maleCounter, femaleCounter"
   ]
  },
  {
   "cell_type": "code",
   "execution_count": 230,
   "metadata": {},
   "outputs": [
    {
     "name": "stdout",
     "output_type": "stream",
     "text": [
      "Most male:\n",
      "2.488\ttold\n",
      "1.513\tloved\n",
      "1.316\tleft\n",
      "1.020\tasked\n",
      "0.893\tadmired\n",
      "0.893\tassured\n",
      "0.626\tmentioned\n",
      "0.626\tjoined\n",
      "0.626\tset\n",
      "0.626\tdistinguished\n",
      "\n",
      "Most female:\n",
      "-2.282\tseen\n",
      "-1.618\thave\n",
      "-1.383\tsaw\n",
      "-1.029\tlove\n",
      "-0.636\trefused\n",
      "-0.617\tliked\n",
      "-0.594\taccepted\n",
      "-0.564\tentreat\n",
      "-0.564\taccept\n",
      "-0.523\thelp\n"
     ]
    }
   ],
   "source": [
    "male, female=count_SVO_tuples()\n",
    "test(male, female, display=10)"
   ]
  },
  {
   "cell_type": "code",
   "execution_count": null,
   "metadata": {},
   "outputs": [],
   "source": []
  }
 ],
 "metadata": {
  "kernelspec": {
   "display_name": "Python 3",
   "language": "python",
   "name": "python3"
  },
  "language_info": {
   "codemirror_mode": {
    "name": "ipython",
    "version": 3
   },
   "file_extension": ".py",
   "mimetype": "text/x-python",
   "name": "python",
   "nbconvert_exporter": "python",
   "pygments_lexer": "ipython3",
   "version": "3.8.8"
  }
 },
 "nbformat": 4,
 "nbformat_minor": 2
}
