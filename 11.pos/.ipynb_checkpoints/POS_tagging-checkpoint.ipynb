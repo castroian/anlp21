{
 "cells": [
  {
   "cell_type": "code",
   "execution_count": 1,
   "metadata": {},
   "outputs": [],
   "source": [
    "import spacy, glob, os"
   ]
  },
  {
   "cell_type": "code",
   "execution_count": 2,
   "metadata": {},
   "outputs": [
    {
     "data": {
      "text/plain": [
       "('parser', <spacy.pipeline.dep_parser.DependencyParser at 0x7feab6211d00>)"
      ]
     },
     "execution_count": 2,
     "metadata": {},
     "output_type": "execute_result"
    }
   ],
   "source": [
    "nlp = spacy.load('en_core_web_sm', disable=['ner,parser'])\n",
    "nlp.remove_pipe('ner')\n",
    "nlp.remove_pipe('parser')"
   ]
  },
  {
   "cell_type": "code",
   "execution_count": 5,
   "metadata": {},
   "outputs": [
    {
     "name": "stdout",
     "output_type": "stream",
     "text": [
      "Time NN\n",
      "flies VBZ\n",
      "like IN\n",
      "an DT\n",
      "arrow NN\n"
     ]
    }
   ],
   "source": [
    "def get_spacy_tags(text):\n",
    "    doc=nlp(text)\n",
    "    for word in doc:\n",
    "        print(word.text, word.tag_)\n",
    "\n",
    "get_spacy_tags(\"Time flies like an arrow\")"
   ]
  },
  {
   "cell_type": "code",
   "execution_count": 6,
   "metadata": {},
   "outputs": [
    {
     "name": "stdout",
     "output_type": "stream",
     "text": [
      "Fruit NN\n",
      "flies VBZ\n",
      "like IN\n",
      "a DT\n",
      "banana NN\n"
     ]
    }
   ],
   "source": [
    "get_spacy_tags(\"Fruit flies like a banana\")"
   ]
  },
  {
   "cell_type": "code",
   "execution_count": 7,
   "metadata": {},
   "outputs": [],
   "source": [
    "def read_docs(inputDir, maxDocs=100):\n",
    "    \"\"\" Read in movie documents (all ending in .txt) from an input folder\n",
    "    and process with spacy \"\"\"\n",
    "    \n",
    "    docs=[]\n",
    "    for idx, filename in enumerate(glob.glob(os.path.join(inputDir, '*.txt'))):\n",
    "        with open(filename) as file:\n",
    "            docs.append((filename, nlp(file.read())))\n",
    "        if idx >= maxDocs:\n",
    "            break\n",
    "    return docs"
   ]
  },
  {
   "cell_type": "code",
   "execution_count": 8,
   "metadata": {},
   "outputs": [],
   "source": [
    "# directory with 2000 movies summaries from Wikipedia\n",
    "inputDir=\"../data/movie_summaries/\"\n",
    "docs=read_docs(inputDir, maxDocs=100)"
   ]
  },
  {
   "cell_type": "markdown",
   "metadata": {},
   "source": [
    "Here are the 45 tags used by the Penn Treebank:\n",
    "\n",
    "|tag|meaning|\n",
    "|---|---|\n",
    "|CC|Coordinating conjunction|\n",
    "|CD|Cardinal number|\n",
    "|DT|Determiner|\n",
    "|EX|Existential there|\n",
    "|FW|Foreign word|\n",
    "|IN|Preposition or subordinating conjunction|\n",
    "|JJ|Adjective|\n",
    "|JJR|Adjective, comparative|\n",
    "|JJS|Adjective, superlative|\n",
    "|LS|List item marker|\n",
    "|MD|Modal|\n",
    "|NN|Noun, singular or mass|\n",
    "|NNS|Noun, plural|\n",
    "|NNP|Proper noun, singular|\n",
    "|NNPS|Proper noun, plural|\n",
    "|PDT|Predeterminer|\n",
    "|POS|Possessive ending|\n",
    "|PRP|Personal pronoun|\n",
    "|PRP\\$|Possessive pronoun|\n",
    "|RB|Adverb|\n",
    "|RBR|Adverb, comparative|\n",
    "|RBS|Adverb, superlative|\n",
    "|RP|Particle|\n",
    "|SYM|Symbol|\n",
    "|TO|to|\n",
    "|UH|Interjection|\n",
    "|VB|Verb, base form|\n",
    "|VBD|Verb, past tense|\n",
    "|VBG|Verb, gerund or present participle|\n",
    "|VBN|Verb, past participle|\n",
    "|VBP|Verb, non-3rd person singular present|\n",
    "|VBZ|Verb, 3rd person singular present|\n",
    "|WDT|Wh-determiner|\n",
    "|WP|Wh-pronoun|\n",
    "|WP\\$|Possessive wh-pronoun|\n",
    "|WRB|Wh-adverb|\n",
    "|.|period|\n",
    "|,|comma|\n",
    "|:|colon|\n",
    "|(|left separator|\n",
    "|)|right separator|\n",
    "|$|dollar sign|\n",
    "|\\`\\`|open double quotes|\n",
    "|''|close double quotes|\n",
    "\n",
    "Explore these tags below by searching for sentences in the (automatically tagged) movie summary corpus that have been tagged for each one."
   ]
  },
  {
   "cell_type": "code",
   "execution_count": 9,
   "metadata": {},
   "outputs": [],
   "source": [
    "def find_examples(docs, tag, num_examples=10, window=5):\n",
    "    count=0\n",
    "    for _, doc in docs:\n",
    "        for idx, token in enumerate(doc[window:-window]):\n",
    "            if token.tag_ == tag:\n",
    "                print (' '.join([\"%s\" % context.text for context in doc[idx:idx+window ]]), \"\\033[91m%s\\033[0m\" % doc[idx+window].text, ' '.join([\"%s\" % context.text for context in doc[idx+window+1:idx+window+window+1] ]))\n",
    "                # for windows users - you may want to use the following print statement\n",
    "                # to highlight the middle token in each sentence using #s\n",
    "                # print (' '.join([\"%s\" % context.text for context in doc[idx:idx+window ]]), \"#%s#\" % doc[idx+window].text, ' '.join([\"%s\" % context.text for context in doc[idx+window+1:idx+window+window+1] ]))\n",
    "                count+=1\n",
    "                if count >= num_examples:\n",
    "                    return\n",
    "                \n",
    "        "
   ]
  },
  {
   "cell_type": "code",
   "execution_count": 23,
   "metadata": {},
   "outputs": [
    {
     "name": "stdout",
     "output_type": "stream",
     "text": [
      "After Tre gets involved in \u001b[91ma\u001b[0m fight at school , his\n",
      "his teacher calls Reva . \u001b[91mThe\u001b[0m teacher informs Reva that although\n",
      "adults alike . Frightened about \u001b[91mthe\u001b[0m future of her child ,\n",
      "sends him to live in \u001b[91mthe\u001b[0m Crenshaw neighborhood of South Central\n",
      "learn life lessons . On \u001b[91mthe\u001b[0m night of Tre 's arrival\n",
      "hears his father firing at \u001b[91ma\u001b[0m burglar . LAPD officers arrive\n",
      "LAPD officers arrive more than \u001b[91man\u001b[0m hour later , and eventually\n",
      "later , and eventually decide \u001b[91mthe\u001b[0m crime is unimportant because nothing\n",
      "because nothing was taken and \u001b[91mthe\u001b[0m burglar escaped completely unharmed .\n",
      "burglar escaped completely unharmed . \u001b[91mThe\u001b[0m police , particularly the African\n"
     ]
    }
   ],
   "source": [
    "find_examples(docs, \"DT\", num_examples=10, window=5)"
   ]
  },
  {
   "cell_type": "markdown",
   "metadata": {},
   "source": [
    "What's the difference between the following?\n",
    "\n",
    "* PRP and PRP\\$\n",
    "\n",
    "PRP = personal pronoun (he, her), PRP$ = possessive pronoun (e.g. mine, hers)\n",
    "\n",
    "* NN and NNP\n",
    "\n",
    "singular noun vs plural noun\n",
    "\n",
    "* JJ and JJR\n",
    "\n",
    "general adjective vs comparative adjective\n",
    "\n",
    "* VBZ and VB\n",
    "\n",
    "3rd person singular verb, base form of a verb"
   ]
  },
  {
   "cell_type": "markdown",
   "metadata": {},
   "source": [
    "Q2: Use the `find_examples` function to help understand the usage of each part-of-speech tag; work with a partner to manually tag the following four sentences"
   ]
  },
  {
   "cell_type": "markdown",
   "metadata": {},
   "source": [
    "1. \"Open the pod bay doors, Hal\"\n",
    "\n",
    "VB, DT, JJ, JJ, NNS, NNP"
   ]
  },
  {
   "cell_type": "code",
   "execution_count": 12,
   "metadata": {},
   "outputs": [
    {
     "name": "stdout",
     "output_type": "stream",
     "text": [
      "Open VB\n",
      "the DT\n",
      "pod JJ\n",
      "bay NN\n",
      "doors NNS\n",
      ", ,\n",
      "Hal NNP\n"
     ]
    }
   ],
   "source": [
    "get_spacy_tags(\"Open the pod bay doors, Hal\")"
   ]
  },
  {
   "cell_type": "markdown",
   "metadata": {},
   "source": [
    "2. \"Frankly, my dear, I don't give a damn\"\n",
    "\n",
    "RB, PRP$, NN, PRP, VB, RB, VB, DT, NN\n"
   ]
  },
  {
   "cell_type": "code",
   "execution_count": 17,
   "metadata": {},
   "outputs": [
    {
     "name": "stdout",
     "output_type": "stream",
     "text": [
      "Frankly RB\n",
      ", ,\n",
      "my PRP$\n",
      "dear NN\n",
      ", ,\n",
      "I PRP\n",
      "do VBP\n",
      "n't RB\n",
      "give VB\n",
      "a DT\n",
      "damn NN\n"
     ]
    }
   ],
   "source": [
    "get_spacy_tags(\"Frankly, my dear, I don't give a damn\")"
   ]
  },
  {
   "cell_type": "markdown",
   "metadata": {},
   "source": [
    "3. \"May the Force be with you\"\n",
    "\n",
    "MD, DT, NN, VB, IN, PRP"
   ]
  },
  {
   "cell_type": "code",
   "execution_count": 19,
   "metadata": {},
   "outputs": [
    {
     "name": "stdout",
     "output_type": "stream",
     "text": [
      "May MD\n",
      "the DT\n",
      "force NN\n",
      "be VB\n",
      "with IN\n",
      "you PRP\n"
     ]
    }
   ],
   "source": [
    "get_spacy_tags(\"May the force be with you\")"
   ]
  },
  {
   "cell_type": "markdown",
   "metadata": {},
   "source": [
    "4. One morning I shot an elephant in my pajamas. How he got in my pajamas, I don't know\n",
    "\n",
    "JJ, NN, PRP, VBD, DT, NN, IN, PRP\\\\$, NN. RB, PRP, VBD, IN, PRP\\\\$, NN, PRP, VBP, RB, VB"
   ]
  },
  {
   "cell_type": "code",
   "execution_count": 24,
   "metadata": {},
   "outputs": [
    {
     "name": "stdout",
     "output_type": "stream",
     "text": [
      "One CD\n",
      "morning NN\n",
      "I PRP\n",
      "shot VBD\n",
      "an DT\n",
      "elephant NN\n",
      "in IN\n",
      "my PRP$\n",
      "pajamas NNS\n",
      ". .\n",
      "How WRB\n",
      "he PRP\n",
      "got VBD\n",
      "in IN\n",
      "my PRP$\n",
      "pajamas NNS\n",
      ", ,\n",
      "I PRP\n",
      "do VBP\n",
      "n't RB\n",
      "know VB\n"
     ]
    }
   ],
   "source": [
    "get_spacy_tags(\"One morning I shot an elephant in my pajamas. How he got in my pajamas, I don't know\")"
   ]
  },
  {
   "cell_type": "markdown",
   "metadata": {},
   "source": [
    "Q3. After tagging the sentences above by hand, run them through the spacy tagger; what's spacy's accuracy on these sentences?"
   ]
  },
  {
   "cell_type": "code",
   "execution_count": 21,
   "metadata": {},
   "outputs": [],
   "source": [
    "# Overall, spacy was relatively accurate \n",
    "# EXCEPT for the last\n",
    "# Some issues where we disagreed:\n",
    "# pajamas = plural noun;\n",
    "# one = modifies the noun verb, but spacy sees it as a number only\n"
   ]
  },
  {
   "cell_type": "code",
   "execution_count": null,
   "metadata": {},
   "outputs": [],
   "source": []
  }
 ],
 "metadata": {
  "kernelspec": {
   "display_name": "Python 3",
   "language": "python",
   "name": "python3"
  },
  "language_info": {
   "codemirror_mode": {
    "name": "ipython",
    "version": 3
   },
   "file_extension": ".py",
   "mimetype": "text/x-python",
   "name": "python",
   "nbconvert_exporter": "python",
   "pygments_lexer": "ipython3",
   "version": "3.8.8"
  }
 },
 "nbformat": 4,
 "nbformat_minor": 2
}
