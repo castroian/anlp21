{
 "cells": [
  {
   "cell_type": "markdown",
   "metadata": {},
   "source": [
    "Thie notebook explores logistic regression and feedforward neural networks for binary text classification for your text classification problem, using the pytorch library. "
   ]
  },
  {
   "cell_type": "code",
   "execution_count": 1,
   "metadata": {},
   "outputs": [],
   "source": [
    "from collections import Counter\n",
    "import nltk\n",
    "from sklearn.feature_extraction.text import CountVectorizer\n",
    "from sklearn import preprocessing\n",
    "import torch\n",
    "import torch.nn as nn\n",
    "import random\n",
    "import pandas as pd\n",
    "%matplotlib inline"
   ]
  },
  {
   "cell_type": "code",
   "execution_count": 2,
   "metadata": {},
   "outputs": [],
   "source": [
    "def read_data(filename, max_data_points=None):\n",
    "    X=[]\n",
    "    Y=[]\n",
    "    with open(filename, encoding=\"utf-8\") as file:\n",
    "        for idx,line in enumerate(file):\n",
    "            cols=line.rstrip().split(\"\\t\")\n",
    "            label=cols[0]\n",
    "            text=cols[1]\n",
    "            X.append(text)\n",
    "            Y.append(label)\n",
    "\n",
    "    # shuffle the data\n",
    "    tmp = list(zip(X, Y))\n",
    "    random.shuffle(tmp)\n",
    "    X, Y = zip(*tmp)\n",
    "    \n",
    "    if max_data_points == None:\n",
    "        return X, Y\n",
    "    \n",
    "    return X[:max_data_points], Y[:max_data_points]"
   ]
  },
  {
   "cell_type": "code",
   "execution_count": 6,
   "metadata": {},
   "outputs": [],
   "source": [
    "# Change this to the directory with your data (from the CheckData_TODO.ipynb exercise).  \n",
    "# The directory should contain train.tsv, dev.tsv and test.tsv\n",
    "directory=\"../data/my_datasets/shortened\""
   ]
  },
  {
   "cell_type": "markdown",
   "metadata": {},
   "source": [
    "We'll limit the training and dev data to 10,000 data points for this exercise."
   ]
  },
  {
   "cell_type": "code",
   "execution_count": 7,
   "metadata": {},
   "outputs": [],
   "source": [
    "trainX, trainY=read_data(\"%s/train.tsv\" % directory, max_data_points=10000)"
   ]
  },
  {
   "cell_type": "code",
   "execution_count": 8,
   "metadata": {},
   "outputs": [],
   "source": [
    "devX, devY=read_data(\"%s/dev.tsv\" % directory, max_data_points=10000)"
   ]
  },
  {
   "cell_type": "markdown",
   "metadata": {},
   "source": [
    "We'll represent the data using simple binary indicators of the most frequent 1000 words in the vocabulary."
   ]
  },
  {
   "cell_type": "code",
   "execution_count": 9,
   "metadata": {},
   "outputs": [],
   "source": [
    "vectorizer = CountVectorizer(max_features=1000, analyzer=str.split, lowercase=True, strip_accents=None, binary=True)\n",
    "X_train = vectorizer.fit_transform(trainX)\n",
    "X_dev = vectorizer.transform(devX)\n",
    "\n",
    "_,vocabSize=X_train.shape\n",
    "\n",
    "le = preprocessing.LabelEncoder()\n",
    "le.fit(trainY)\n",
    "\n",
    "Y_train=le.transform(trainY)\n",
    "Y_dev=le.transform(devY)"
   ]
  },
  {
   "cell_type": "code",
   "execution_count": 10,
   "metadata": {},
   "outputs": [],
   "source": [
    "def get_batches(x, y, batch_size=12):\n",
    "    batches_x=[]\n",
    "    batches_y=[]\n",
    "    for i in range(0, len(x), batch_size):\n",
    "        batches_x.append(x[i:i+batch_size])\n",
    "        batches_y.append(y[i:i+batch_size])\n",
    "    \n",
    "    return batches_x, batches_y"
   ]
  },
  {
   "cell_type": "code",
   "execution_count": 11,
   "metadata": {},
   "outputs": [],
   "source": [
    "train_batches_x, train_batches_y=get_batches(torch.from_numpy(X_train.todense()).float(), torch.LongTensor(Y_train))\n",
    "dev_batches_x, dev_batches_y=get_batches(torch.from_numpy(X_dev.todense()).float(), torch.LongTensor(Y_dev))"
   ]
  },
  {
   "cell_type": "code",
   "execution_count": 12,
   "metadata": {},
   "outputs": [],
   "source": [
    "def evaluate(model, x, y):\n",
    "\n",
    "    model.eval()\n",
    "    corr = 0.\n",
    "    total = 0.\n",
    "    with torch.no_grad():\n",
    "        for x, y in zip(x, y):\n",
    "            y_preds=model.forward(x)\n",
    "            for idx, y_pred in enumerate(y_preds):\n",
    "                prediction=torch.argmax(y_pred)\n",
    "                if prediction == y[idx]:\n",
    "                    corr += 1.\n",
    "                total+=1                          \n",
    "    return corr/total"
   ]
  },
  {
   "cell_type": "code",
   "execution_count": 13,
   "metadata": {},
   "outputs": [],
   "source": [
    "class LogisticRegressionClassifier(nn.Module):\n",
    "\n",
    "    def __init__(self, input_dim, output_dim):\n",
    "        super().__init__()\n",
    "        \n",
    "        # torch.nn.Linear transforms an input of size input_dim (e.g., 1000 above) to an output of size output_dim (e.g., 2 classes for positive/negative)\n",
    "        self.linear1 = torch.nn.Linear(input_dim, output_dim) \n",
    "    \n",
    "    def forward(self, input): \n",
    "        x1 = self.linear1(input)\n",
    "\n",
    "        return x1"
   ]
  },
  {
   "cell_type": "code",
   "execution_count": 14,
   "metadata": {},
   "outputs": [],
   "source": [
    "class FFNN_1_Hidden_Layer(nn.Module):\n",
    "\n",
    "    def __init__(self, input_dim, output_dim, hidden_dim=100):\n",
    "        super().__init__()\n",
    "        \n",
    "        hidden_dim=100\n",
    "        # the first layer transforms an input of size input_dim (e.g., 1000 above) to an output of size hidden_dim (e.g., 100)\n",
    "        self.linear1 = torch.nn.Linear(input_dim, hidden_dim)\n",
    "\n",
    "        # the second layer transforms an input of size hidden_dim (e.g., 100) to an output of size output_dim (e.g., 2 classes for positive/negative)       \n",
    "        self.linear2 = torch.nn.Linear(hidden_dim, output_dim)\n",
    "    \n",
    "    def forward(self, input): \n",
    "        # pass the input through the first layer\n",
    "        layer1_output = self.linear1(input)\n",
    "        \n",
    "        # pass that output through a non-linearity (here, tanh)\n",
    "        layer1_output = torch.tanh(layer1_output)\n",
    "        \n",
    "        # and then pass the output from that first layer as input to the second layer\n",
    "        layer2_output = self.linear2(layer1_output)\n",
    "\n",
    "        return layer2_output"
   ]
  },
  {
   "cell_type": "code",
   "execution_count": 15,
   "metadata": {},
   "outputs": [],
   "source": [
    "def train(model, model_filename, train_batches_x, train_batches_y, dev_batches_x, dev_batches_y):\n",
    "    optimizer = torch.optim.Adam(model.parameters(), lr=0.001, weight_decay=1e-5)\n",
    "    losses = []\n",
    "    cross_entropy=nn.CrossEntropyLoss()\n",
    "\n",
    "    best_dev_acc=0.\n",
    "    \n",
    "    # we'll only train for 5 epochs for this exercise, but in practice you'd want to train for more\n",
    "    # (in general until you stop seeing improvements in accuracy on your *development* data)\n",
    "    \n",
    "    for epoch in range(5):\n",
    "        model.train()\n",
    "\n",
    "        for x, y in zip(train_batches_x, train_batches_y):\n",
    "            y_pred=model.forward(x)\n",
    "            loss = cross_entropy(y_pred.view(-1, 2), y.view(-1))\n",
    "            losses.append(loss)\n",
    "            optimizer.zero_grad()\n",
    "            loss.backward()\n",
    "            optimizer.step()\n",
    "        dev_accuracy=evaluate(model, dev_batches_x, dev_batches_y)\n",
    "        \n",
    "        # we're going to save the model that performs the best on *dev* data\n",
    "        if dev_accuracy > best_dev_acc:\n",
    "            torch.save(model.state_dict(), model_filename)\n",
    "            print(\"%.3f is better than %.3f, saving model ...\" % (dev_accuracy, best_dev_acc))\n",
    "            best_dev_acc = dev_accuracy\n",
    "        if epoch % 1 == 0:\n",
    "            print(\"Epoch %s, dev accuracy: %.3f\" % (epoch, dev_accuracy))\n",
    "            \n",
    "    model.load_state_dict(torch.load(model_filename))            \n",
    "    print(\"\\nBest Performing Model achieves dev accuracy of : %.3f\" % (best_dev_acc))\n",
    "    return best_dev_acc\n",
    "    "
   ]
  },
  {
   "cell_type": "code",
   "execution_count": 16,
   "metadata": {},
   "outputs": [
    {
     "name": "stdout",
     "output_type": "stream",
     "text": [
      "0.467 is better than 0.000, saving model ...\n",
      "Epoch 0, dev accuracy: 0.467\n",
      "0.483 is better than 0.467, saving model ...\n",
      "Epoch 1, dev accuracy: 0.483\n",
      "Epoch 2, dev accuracy: 0.483\n",
      "Epoch 3, dev accuracy: 0.467\n",
      "Epoch 4, dev accuracy: 0.467\n",
      "\n",
      "Best Performing Model achieves dev accuracy of : 0.483\n"
     ]
    }
   ],
   "source": [
    "logreg=LogisticRegressionClassifier(1000, 2)\n",
    "dev_accuracy=train(logreg, \"logreg.model\", train_batches_x, train_batches_y, dev_batches_x, dev_batches_y)"
   ]
  },
  {
   "cell_type": "code",
   "execution_count": 17,
   "metadata": {},
   "outputs": [
    {
     "name": "stdout",
     "output_type": "stream",
     "text": [
      "0.467 is better than 0.000, saving model ...\n",
      "Epoch 0, dev accuracy: 0.467\n",
      "0.500 is better than 0.467, saving model ...\n",
      "Epoch 1, dev accuracy: 0.500\n",
      "Epoch 2, dev accuracy: 0.500\n",
      "Epoch 3, dev accuracy: 0.450\n",
      "Epoch 4, dev accuracy: 0.450\n",
      "\n",
      "Best Performing Model achieves dev accuracy of : 0.500\n"
     ]
    }
   ],
   "source": [
    "ffnn1=FFNN_1_Hidden_Layer(1000, 2, hidden_dim=100)\n",
    "dev_accuracy=train(ffnn1, \"ffnn1.model\", train_batches_x, train_batches_y, dev_batches_x, dev_batches_y)"
   ]
  },
  {
   "cell_type": "markdown",
   "metadata": {},
   "source": [
    "Neural networks converge to different solutions as a function of their *initialization* (the random choice of the initial values for parameters).  Let's train the `FFNN_1_Hidden_Layer` model 10 times and then plot the distribution of dev accuracies using [pandas.DataFrame.plot.density](https://pandas.pydata.org/pandas-docs/stable/reference/api/pandas.DataFrame.plot.density.html). "
   ]
  },
  {
   "cell_type": "code",
   "execution_count": 18,
   "metadata": {},
   "outputs": [
    {
     "name": "stdout",
     "output_type": "stream",
     "text": [
      "0.450 is better than 0.000, saving model ...\n",
      "Epoch 0, dev accuracy: 0.450\n",
      "0.467 is better than 0.450, saving model ...\n",
      "Epoch 1, dev accuracy: 0.467\n",
      "Epoch 2, dev accuracy: 0.467\n",
      "Epoch 3, dev accuracy: 0.417\n",
      "Epoch 4, dev accuracy: 0.450\n",
      "\n",
      "Best Performing Model achieves dev accuracy of : 0.467\n",
      "0.500 is better than 0.000, saving model ...\n",
      "Epoch 0, dev accuracy: 0.500\n",
      "0.533 is better than 0.500, saving model ...\n",
      "Epoch 1, dev accuracy: 0.533\n",
      "Epoch 2, dev accuracy: 0.500\n",
      "Epoch 3, dev accuracy: 0.450\n",
      "Epoch 4, dev accuracy: 0.500\n",
      "\n",
      "Best Performing Model achieves dev accuracy of : 0.533\n",
      "0.483 is better than 0.000, saving model ...\n",
      "Epoch 0, dev accuracy: 0.483\n",
      "Epoch 1, dev accuracy: 0.467\n",
      "0.500 is better than 0.483, saving model ...\n",
      "Epoch 2, dev accuracy: 0.500\n",
      "Epoch 3, dev accuracy: 0.417\n",
      "Epoch 4, dev accuracy: 0.450\n",
      "\n",
      "Best Performing Model achieves dev accuracy of : 0.500\n",
      "0.450 is better than 0.000, saving model ...\n",
      "Epoch 0, dev accuracy: 0.450\n",
      "0.483 is better than 0.450, saving model ...\n",
      "Epoch 1, dev accuracy: 0.483\n",
      "0.533 is better than 0.483, saving model ...\n",
      "Epoch 2, dev accuracy: 0.533\n",
      "Epoch 3, dev accuracy: 0.433\n",
      "Epoch 4, dev accuracy: 0.450\n",
      "\n",
      "Best Performing Model achieves dev accuracy of : 0.533\n",
      "0.467 is better than 0.000, saving model ...\n",
      "Epoch 0, dev accuracy: 0.467\n",
      "0.500 is better than 0.467, saving model ...\n",
      "Epoch 1, dev accuracy: 0.500\n",
      "Epoch 2, dev accuracy: 0.467\n",
      "Epoch 3, dev accuracy: 0.450\n",
      "Epoch 4, dev accuracy: 0.450\n",
      "\n",
      "Best Performing Model achieves dev accuracy of : 0.500\n",
      "0.500 is better than 0.000, saving model ...\n",
      "Epoch 0, dev accuracy: 0.500\n",
      "Epoch 1, dev accuracy: 0.500\n",
      "0.517 is better than 0.500, saving model ...\n",
      "Epoch 2, dev accuracy: 0.517\n",
      "Epoch 3, dev accuracy: 0.433\n",
      "Epoch 4, dev accuracy: 0.467\n",
      "\n",
      "Best Performing Model achieves dev accuracy of : 0.517\n",
      "0.483 is better than 0.000, saving model ...\n",
      "Epoch 0, dev accuracy: 0.483\n",
      "Epoch 1, dev accuracy: 0.450\n",
      "Epoch 2, dev accuracy: 0.467\n",
      "Epoch 3, dev accuracy: 0.400\n",
      "Epoch 4, dev accuracy: 0.417\n",
      "\n",
      "Best Performing Model achieves dev accuracy of : 0.483\n",
      "0.500 is better than 0.000, saving model ...\n",
      "Epoch 0, dev accuracy: 0.500\n",
      "Epoch 1, dev accuracy: 0.467\n",
      "Epoch 2, dev accuracy: 0.483\n",
      "Epoch 3, dev accuracy: 0.450\n",
      "Epoch 4, dev accuracy: 0.450\n",
      "\n",
      "Best Performing Model achieves dev accuracy of : 0.500\n",
      "0.433 is better than 0.000, saving model ...\n",
      "Epoch 0, dev accuracy: 0.433\n",
      "0.467 is better than 0.433, saving model ...\n",
      "Epoch 1, dev accuracy: 0.467\n",
      "Epoch 2, dev accuracy: 0.467\n",
      "Epoch 3, dev accuracy: 0.400\n",
      "Epoch 4, dev accuracy: 0.417\n",
      "\n",
      "Best Performing Model achieves dev accuracy of : 0.467\n",
      "0.467 is better than 0.000, saving model ...\n",
      "Epoch 0, dev accuracy: 0.467\n",
      "0.483 is better than 0.467, saving model ...\n",
      "Epoch 1, dev accuracy: 0.483\n",
      "0.500 is better than 0.483, saving model ...\n",
      "Epoch 2, dev accuracy: 0.500\n",
      "Epoch 3, dev accuracy: 0.450\n",
      "Epoch 4, dev accuracy: 0.467\n",
      "\n",
      "Best Performing Model achieves dev accuracy of : 0.500\n"
     ]
    }
   ],
   "source": [
    "dev_accuracies=[]\n",
    "\n",
    "for i in range(10):\n",
    "    ffnn1=FFNN_1_Hidden_Layer(1000, 2, hidden_dim=100)\n",
    "    dev_accuracy=train(ffnn1, \"ffnn1.model\", train_batches_x, train_batches_y, dev_batches_x, dev_batches_y)\n",
    "    dev_accuracies.append(dev_accuracy)"
   ]
  },
  {
   "cell_type": "code",
   "execution_count": 20,
   "metadata": {},
   "outputs": [
    {
     "data": {
      "image/png": "[encoded data removed]",
      "text/plain": [
       "<Figure size 432x288 with 1 Axes>"
      ]
     },
     "metadata": {
      "needs_background": "light"
     },
     "output_type": "display_data"
    }
   ],
   "source": [
    "df=pd.DataFrame(dev_accuracies)\n",
    "ax = df.plot.kde()"
   ]
  },
  {
   "cell_type": "markdown",
   "metadata": {},
   "source": [
    "Try adding more layers to the FFNN below and experimenting with the dropout rate, hidden layer sizes, and different choices of non-linearity."
   ]
  },
  {
   "cell_type": "code",
   "execution_count": 17,
   "metadata": {},
   "outputs": [],
   "source": [
    "class FFNN_Experiment(nn.Module):\n",
    "\n",
    "    def __init__(self, input_dim, output_dim, hidden_dim=100):\n",
    "        super().__init__()\n",
    "\n",
    "        hidden_dim=100\n",
    "        \n",
    "        # the first layer transforms an input of size input_dim (e.g., 1000 above) to an output of size hidden_dim (e.g., 100)\n",
    "        self.linear1 = torch.nn.Linear(input_dim, hidden_dim)\n",
    "\n",
    "        # a dropout layer randomly sets the output from the previous layer to 0 p% of the time\n",
    "        self.dropout = nn.Dropout(p=0.2)\n",
    "\n",
    "        # the second layer transforms an input of size hidden_dim (e.g., 100) to an output of size output_dim (e.g., 2 classes for positive/negative)       \n",
    "        self.linear2 = torch.nn.Linear(hidden_dim, output_dim)\n",
    "    \n",
    "    def forward(self, input): \n",
    "        # pass the input through the first layer\n",
    "        layer1_output = self.linear1(input)\n",
    "        \n",
    "        # pass that output through a non-linearity (here, tanh)\n",
    "        # alternatives include torch.relu and torch.sigmoid\n",
    "        layer1_output = torch.tanh(layer1_output)\n",
    "        \n",
    "        # then dropout some outputs during training time (not test time)\n",
    "        layer1_output=self.dropout(layer1_output)\n",
    "        \n",
    "        # and then pass the output from that first layer as input to the second layer\n",
    "        layer2_output = self.linear2(layer1_output)\n",
    "\n",
    "        return layer2_output"
   ]
  },
  {
   "cell_type": "code",
   "execution_count": 18,
   "metadata": {},
   "outputs": [
    {
     "name": "stdout",
     "output_type": "stream",
     "text": [
      "0.835 is better than 0.000, saving model ...\n",
      "Epoch 0, dev accuracy: 0.835\n",
      "Epoch 1, dev accuracy: 0.834\n",
      "Epoch 2, dev accuracy: 0.832\n",
      "Epoch 3, dev accuracy: 0.832\n",
      "Epoch 4, dev accuracy: 0.832\n",
      "\n",
      "Best Performing Model achieves dev accuracy of : 0.835\n"
     ]
    }
   ],
   "source": [
    "ffnn_e=FFNN_Experiment(1000, 2, hidden_dim=100)\n",
    "dev_accuracy=train(ffnn_e, \"ffnn_e.model\", train_batches_x, train_batches_y, dev_batches_x, dev_batches_y)"
   ]
  },
  {
   "cell_type": "code",
   "execution_count": null,
   "metadata": {},
   "outputs": [],
   "source": [
    "class CNNClassifier_unigram_bigram(nn.Module):\n",
    "\n",
    "    \"\"\"\n",
    "    CNN over window sizes of 1 (unigrams) and 2 (bigrams) each 96 filters, where a document\n",
    "    is representated as the concatentation of the 96 ungram filters + 96 bigram filters.\n",
    "    \n",
    "    \"\"\"\n",
    "        \n",
    "    def __init__(self, pretrained_embeddings):\n",
    "        super().__init__()\n",
    "        \n",
    "        self.num_filters=96\n",
    "        \n",
    "        self.num_labels = 2\n",
    "\n",
    "        _, embedding_dim=pretrained_embeddings.shape\n",
    "        \n",
    "        self.embeddings = nn.Embedding.from_pretrained(pretrained_embeddings, freeze=True)\n",
    "\n",
    "        # convolution over 1 word\n",
    "        self.conv_1 = nn.Conv1d(embedding_dim, self.num_filters, 1, 1)\n",
    "\n",
    "        # convolution over 2 words    \n",
    "        self.conv_2 = nn.Conv1d(embedding_dim, self.num_filters, 2, 1)\n",
    "\n",
    "        self.fc = nn.Linear(self.num_filters*2, self.num_labels)\n",
    "\n",
    "    \n",
    "    def forward(self, input): \n",
    "        \n",
    "        # batch_size x max_seq_length x embeddings_size\n",
    "        x0 = self.embeddings(input)\n",
    "        \n",
    "        # batch_size x embeddings_size x max_seq_length\n",
    "        # (the input order expected by nn.Conv1d)\n",
    "        x0 = x0.permute(0, 2, 1)\n",
    "\n",
    "        # convolution\n",
    "        x1 = self.conv_1(x0)\n",
    "        # non-linearity\n",
    "        x1 = torch.tanh(x1)\n",
    "        # global max-pooling over the entire sequence\n",
    "        x1=torch.max(x1, 2)[0]\n",
    "\n",
    "        x2 = self.conv_2(x0)\n",
    "        x2 = torch.tanh(x2)\n",
    "        x2=torch.max(x2, 2)[0]\n",
    "\n",
    "        combined=torch.cat([x1, x2], dim=1)\n",
    "\n",
    "        out = self.fc(combined)\n",
    "        \n",
    "        return out        "
   ]
  }
 ],
 "metadata": {
  "kernelspec": {
   "display_name": "Python 3",
   "language": "python",
   "name": "python3"
  },
  "language_info": {
   "codemirror_mode": {
    "name": "ipython",
    "version": 3
   },
   "file_extension": ".py",
   "mimetype": "text/x-python",
   "name": "python",
   "nbconvert_exporter": "python",
   "pygments_lexer": "ipython3",
   "version": "3.8.8"
  }
 },
 "nbformat": 4,
 "nbformat_minor": 2
}
