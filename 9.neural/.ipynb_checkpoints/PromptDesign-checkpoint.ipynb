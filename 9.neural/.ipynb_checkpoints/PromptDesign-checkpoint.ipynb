{
 "cells": [
  {
   "cell_type": "markdown",
   "metadata": {},
   "source": [
    "In this notebook, we'll explore few-shot learning with GPT-2.  While GPT-2 is a less expressive model than GPT-3 (and hence not as a good of a few shot learner), it can fit within the memory and processing constraints of laptops while also being openly available.  Can you create a new classification task and design prompts to differentiate between the classes within it?"
   ]
  },
  {
   "cell_type": "code",
   "execution_count": 1,
   "metadata": {
    "id": "RrIEtQc10uej"
   },
   "outputs": [],
   "source": [
    "import torch\n",
    "from torch.nn import functional as F"
   ]
  },
  {
   "cell_type": "code",
   "execution_count": 2,
   "metadata": {
    "id": "hzyR47bH7GSZ"
   },
   "outputs": [],
   "source": [
    "from transformers import pipeline"
   ]
  },
  {
   "cell_type": "code",
   "execution_count": 3,
   "metadata": {},
   "outputs": [],
   "source": [
    "from transformers import AutoModelForCausalLM, AutoTokenizer"
   ]
  },
  {
   "cell_type": "code",
   "execution_count": 4,
   "metadata": {},
   "outputs": [
    {
     "data": {
      "application/vnd.jupyter.widget-view+json": {
       "model_id": "5e73f28d9a9640bb933519f1633ba26a",
       "version_major": 2,
       "version_minor": 0
      },
      "text/plain": [
       "Downloading:   0%|          | 0.00/665 [00:00<?, ?B/s]"
      ]
     },
     "metadata": {},
     "output_type": "display_data"
    },
    {
     "data": {
      "application/vnd.jupyter.widget-view+json": {
       "model_id": "30f1526ac709462b9a1c68cfd4305b9c",
       "version_major": 2,
       "version_minor": 0
      },
      "text/plain": [
       "Downloading:   0%|          | 0.00/1.04M [00:00<?, ?B/s]"
      ]
     },
     "metadata": {},
     "output_type": "display_data"
    },
    {
     "data": {
      "application/vnd.jupyter.widget-view+json": {
       "model_id": "6d234d95676c403eb74be89e00bf1da7",
       "version_major": 2,
       "version_minor": 0
      },
      "text/plain": [
       "Downloading:   0%|          | 0.00/456k [00:00<?, ?B/s]"
      ]
     },
     "metadata": {},
     "output_type": "display_data"
    },
    {
     "data": {
      "application/vnd.jupyter.widget-view+json": {
       "model_id": "37d90a67eb1c43498100e7225234d616",
       "version_major": 2,
       "version_minor": 0
      },
      "text/plain": [
       "Downloading:   0%|          | 0.00/1.36M [00:00<?, ?B/s]"
      ]
     },
     "metadata": {},
     "output_type": "display_data"
    },
    {
     "data": {
      "application/vnd.jupyter.widget-view+json": {
       "model_id": "c355f9e141b54a44a4787bd0e0502c7e",
       "version_major": 2,
       "version_minor": 0
      },
      "text/plain": [
       "Downloading:   0%|          | 0.00/548M [00:00<?, ?B/s]"
      ]
     },
     "metadata": {},
     "output_type": "display_data"
    }
   ],
   "source": [
    "tokenizer = AutoTokenizer.from_pretrained('gpt2')\n",
    "model = AutoModelForCausalLM.from_pretrained('gpt2')"
   ]
  },
  {
   "cell_type": "code",
   "execution_count": 5,
   "metadata": {},
   "outputs": [],
   "source": [
    "def classify_with_prompt(prompt, labels):\n",
    "    inputs = tokenizer.encode(prompt, return_tensors='pt')\n",
    "    completion_layer = model(inputs).logits[:, -1, :]\n",
    "    probabilities = F.softmax(completion_layer, dim=-1)[0]\n",
    "    pred_idx=torch.argmax(probabilities)\n",
    "    pred_token = tokenizer.decode(pred_idx.tolist())\n",
    "\n",
    "    label_ids=[]\n",
    "    for label in labels:\n",
    "        token_ids=tokenizer.encode(label)\n",
    "        label_ids.append(token_ids[0])\n",
    "        \n",
    "    sorted_args=list(torch.argsort(probabilities[label_ids], descending=True))\n",
    "    for arg in sorted_args: \n",
    "            print(\"%.6f\\t%s\" % (probabilities[label_ids[arg]], labels[arg]))\n",
    "    \n",
    "    print(\"\\nCompletion with highest probability:\\n\")\n",
    "    print(prompt + pred_token)\n",
    "    \n",
    "    "
   ]
  },
  {
   "cell_type": "code",
   "execution_count": 6,
   "metadata": {},
   "outputs": [
    {
     "name": "stdout",
     "output_type": "stream",
     "text": [
      "0.000231\tpositive\n",
      "0.000102\tnegative\n",
      "\n",
      "Completion with highest probability:\n",
      "\n",
      "X: I love this movie\n",
      "Y: positive\n",
      "\n",
      "X: I hate the movie\n",
      "Y: negative\n",
      "\n",
      "X: I kind of like the movie\n",
      "Y: positive\n",
      "\n",
      "X: This is one of the best movies I've ever seen\n",
      "Y: positive\n"
     ]
    }
   ],
   "source": [
    "prompt = \"\"\"X: I love this movie\n",
    "Y: positive\n",
    "\n",
    "X: I hate the movie\n",
    "Y: negative\n",
    "\n",
    "X: I kind of like the movie\n",
    "Y: positive\n",
    "\n",
    "X: This is one of the best movies I've ever seen\n",
    "Y:\"\"\"\n",
    "\n",
    "classify_with_prompt(prompt, [\"positive\", \"negative\"])"
   ]
  },
  {
   "cell_type": "code",
   "execution_count": 7,
   "metadata": {},
   "outputs": [
    {
     "name": "stdout",
     "output_type": "stream",
     "text": [
      "0.000030\tHorror\n",
      "0.000005\tComedy\n",
      "\n",
      "Completion with highest probability:\n",
      "\n",
      "X: Vampires take over the planet during an eclipse\n",
      "Y: Horror\n",
      "\n",
      "X: Two friends switch bodies and live each other's lives\n",
      "Y: Comedy\n",
      "\n",
      "X: John turns into a werewolf during a full moon\n",
      "Y: Horror\n",
      "\n",
      "X: John is a werewolf who plays basketball\n",
      "Y: Comedy\n",
      "\n",
      "X: A court sentences George to be Jerry's butler\n",
      "Y: Comedy\n",
      "\n",
      "X: A virus outbreak turns everyone into zombies\n",
      "Y: Horror\n"
     ]
    }
   ],
   "source": [
    "prompt = \"\"\"X: Vampires take over the planet during an eclipse\n",
    "Y: Horror\n",
    "\n",
    "X: Two friends switch bodies and live each other's lives\n",
    "Y: Comedy\n",
    "\n",
    "X: John turns into a werewolf during a full moon\n",
    "Y: Horror\n",
    "\n",
    "X: John is a werewolf who plays basketball\n",
    "Y: Comedy\n",
    "\n",
    "X: A court sentences George to be Jerry's butler\n",
    "Y: Comedy\n",
    "\n",
    "X: A virus outbreak turns everyone into zombies\n",
    "Y:\"\"\"\n",
    "\n",
    "classify_with_prompt(prompt, [\"Horror\", \"Comedy\"])"
   ]
  },
  {
   "cell_type": "code",
   "execution_count": 8,
   "metadata": {},
   "outputs": [
    {
     "name": "stdout",
     "output_type": "stream",
     "text": [
      "0.000223\tSpanish\n",
      "0.000058\tFrench\n",
      "0.000022\tEnglish\n",
      "0.000020\tItalian\n",
      "0.000008\tJapanese\n",
      "\n",
      "Completion with highest probability:\n",
      "\n",
      "Q: This is a text\n",
      "A: English\n",
      "\n",
      "Q: Nel mezzo del cammin' di nostra vita\n",
      "A: Italian\n",
      "\n",
      "Q: Je ne sais pas\n",
      "A: Spanish\n"
     ]
    }
   ],
   "source": [
    "prompt = \"\"\"Q: This is a text\n",
    "A: English\n",
    "\n",
    "Q: Nel mezzo del cammin' di nostra vita\n",
    "A: Italian\n",
    "\n",
    "Q: Je ne sais pas\n",
    "A:\"\"\"\n",
    "\n",
    "classify_with_prompt(prompt, [\"English\", \"Italian\", \"French\", \"Spanish\", \"Japanese\"])\n"
   ]
  },
  {
   "cell_type": "markdown",
   "metadata": {},
   "source": [
    "**Q1**.  Your job is to create a new classification task using prompt design (as in the examples above).  You are free to consider binary classification or multiclass classifaction; keep in mind that you have ~1000 tokens to use as a prompt for GPT-2, so be sure to provide enough answered prompts for each class.  (Note it is not a requirement that your model performs *well* (we want to assess what is -- and isn't -- learnable) but give it every opportunity to do so.  Create 5 test examples to assess whether GPT-2 is able to recognize the class given your fixed prompt.  To take the language ID task above, one test example corresponds to one prediction you make for the same set of answered prompts; the following constitutes two test examples for that task:\n",
    "\n",
    "1.)\n",
    "\n",
    "```\n",
    "prompt = \"\"\"Q: This is a text\n",
    "A: English\n",
    "\n",
    "Q: Nel mezzo del cammin' di nostra vita\n",
    "A: Italian\n",
    "\n",
    "Q: Je ne sais pas\n",
    "A:\"\"\"\n",
    "```\n",
    "\n",
    "2.)\n",
    "\n",
    "``` \n",
    "prompt = \"\"\"Q: This is a text\n",
    "A: English\n",
    "\n",
    "Q: Nel mezzo del cammin' di nostra vita\n",
    "A: Italian\n",
    "\n",
    "Q: Non lo so\n",
    "A:\"\"\"\n",
    "```"
   ]
  },
  {
   "cell_type": "code",
   "execution_count": 26,
   "metadata": {},
   "outputs": [
    {
     "name": "stdout",
     "output_type": "stream",
     "text": [
      "0.000203\tTimes\n",
      "0.000011\tJournal\n",
      "\n",
      "Completion with highest probability:\n",
      "\n",
      "Q: Popular Investing Apps Might Hold a Tax Surprise\n",
      "A: Journal\n",
      "\n",
      "Q: More Companies Mandate Vaccine Ahead of Deadline\n",
      "A: Journal\n",
      "\n",
      "Q: Is Brexit Hurting the U.K. Economy? Trade Data Flashes a Warning\n",
      "A: Journal\n",
      "\n",
      "Q: What’s Behind the Worker Shortage Slowing the Economic Rebound\n",
      "A: Times\n",
      "\n",
      "Q: Democrats, Facing Republican Barrage, Scale Back I.R.S. Enforcement Plan\n",
      "A: Times\n",
      "\n",
      "Q: Brazilian Leader’s Pandemic Handling Draws Explosive Allegation: Homicide\n",
      "A: Times\n",
      "\n",
      "Q: Kidnappers in Haiti Demand $17 Million to Free Missionary Group\n",
      "A: Times\n"
     ]
    }
   ],
   "source": [
    "labels = [\"Times\", \"Journal\"]\n",
    "prompt = \"\"\"Q: Popular Investing Apps Might Hold a Tax Surprise\n",
    "A: Journal\n",
    "\n",
    "Q: More Companies Mandate Vaccine Ahead of Deadline\n",
    "A: Journal\n",
    "\n",
    "Q: Is Brexit Hurting the U.K. Economy? Trade Data Flashes a Warning\n",
    "A: Journal\n",
    "\n",
    "Q: What’s Behind the Worker Shortage Slowing the Economic Rebound\n",
    "A: Times\n",
    "\n",
    "Q: Democrats, Facing Republican Barrage, Scale Back I.R.S. Enforcement Plan\n",
    "A: Times\n",
    "\n",
    "Q: Brazilian Leader’s Pandemic Handling Draws Explosive Allegation: Homicide\n",
    "A: Times\n",
    "\n",
    "Q: Kidnappers in Haiti Demand $17 Million to Free Missionary Group\n",
    "A:\"\"\"\n",
    "\n",
    "classify_with_prompt(prompt, labels)\n",
    "# Correct: NYT headline"
   ]
  },
  {
   "cell_type": "code",
   "execution_count": 27,
   "metadata": {},
   "outputs": [
    {
     "name": "stdout",
     "output_type": "stream",
     "text": [
      "0.000405\tTimes\n",
      "0.000007\tJournal\n",
      "\n",
      "Completion with highest probability:\n",
      "\n",
      "Q: Popular Investing Apps Might Hold a Tax Surprise\n",
      "A: Journal\n",
      "\n",
      "Q: More Companies Mandate Vaccine Ahead of Deadline\n",
      "A: Journal\n",
      "\n",
      "Q: Is Brexit Hurting the U.K. Economy? Trade Data Flashes a Warning\n",
      "A: Journal\n",
      "\n",
      "Q: What’s Behind the Worker Shortage Slowing the Economic Rebound\n",
      "A: Times\n",
      "\n",
      "Q: Democrats, Facing Republican Barrage, Scale Back I.R.S. Enforcement Plan\n",
      "A: Times\n",
      "\n",
      "Q: Brazilian Leader’s Pandemic Handling Draws Explosive Allegation: Homicide\n",
      "A: Times\n",
      "\n",
      "Q: Xi Faces Resistance to Property Tax Planned to Combat China’s Real-Estate Bubble\n",
      "A: Times\n"
     ]
    }
   ],
   "source": [
    "labels = [\"Times\", \"Journal\"]\n",
    "prompt = \"\"\"Q: Popular Investing Apps Might Hold a Tax Surprise\n",
    "A: Journal\n",
    "\n",
    "Q: More Companies Mandate Vaccine Ahead of Deadline\n",
    "A: Journal\n",
    "\n",
    "Q: Is Brexit Hurting the U.K. Economy? Trade Data Flashes a Warning\n",
    "A: Journal\n",
    "\n",
    "Q: What’s Behind the Worker Shortage Slowing the Economic Rebound\n",
    "A: Times\n",
    "\n",
    "Q: Democrats, Facing Republican Barrage, Scale Back I.R.S. Enforcement Plan\n",
    "A: Times\n",
    "\n",
    "Q: Brazilian Leader’s Pandemic Handling Draws Explosive Allegation: Homicide\n",
    "A: Times\n",
    "\n",
    "Q: Xi Faces Resistance to Property Tax Planned to Combat China’s Real-Estate Bubble\n",
    "A:\"\"\"\n",
    "\n",
    "classify_with_prompt(prompt, labels)\n",
    "# Incorrect: WSJ headline"
   ]
  },
  {
   "cell_type": "code",
   "execution_count": 28,
   "metadata": {},
   "outputs": [
    {
     "name": "stdout",
     "output_type": "stream",
     "text": [
      "0.000275\tTimes\n",
      "0.000013\tJournal\n",
      "\n",
      "Completion with highest probability:\n",
      "\n",
      "Q: Popular Investing Apps Might Hold a Tax Surprise\n",
      "A: Journal\n",
      "\n",
      "Q: More Companies Mandate Vaccine Ahead of Deadline\n",
      "A: Journal\n",
      "\n",
      "Q: Is Brexit Hurting the U.K. Economy? Trade Data Flashes a Warning\n",
      "A: Journal\n",
      "\n",
      "Q: What’s Behind the Worker Shortage Slowing the Economic Rebound\n",
      "A: Times\n",
      "\n",
      "Q: Democrats, Facing Republican Barrage, Scale Back I.R.S. Enforcement Plan\n",
      "A: Times\n",
      "\n",
      "Q: Brazilian Leader’s Pandemic Handling Draws Explosive Allegation: Homicide\n",
      "A: Times\n",
      "\n",
      "Q: Christian Schools Are Booming as U.S. Faces Covid and Curriculum Fights\n",
      "A: Times\n"
     ]
    }
   ],
   "source": [
    "labels = [\"Times\", \"Journal\"]\n",
    "prompt = \"\"\"Q: Popular Investing Apps Might Hold a Tax Surprise\n",
    "A: Journal\n",
    "\n",
    "Q: More Companies Mandate Vaccine Ahead of Deadline\n",
    "A: Journal\n",
    "\n",
    "Q: Is Brexit Hurting the U.K. Economy? Trade Data Flashes a Warning\n",
    "A: Journal\n",
    "\n",
    "Q: What’s Behind the Worker Shortage Slowing the Economic Rebound\n",
    "A: Times\n",
    "\n",
    "Q: Democrats, Facing Republican Barrage, Scale Back I.R.S. Enforcement Plan\n",
    "A: Times\n",
    "\n",
    "Q: Brazilian Leader’s Pandemic Handling Draws Explosive Allegation: Homicide\n",
    "A: Times\n",
    "\n",
    "Q: Christian Schools Are Booming as U.S. Faces Covid and Curriculum Fights\n",
    "A:\"\"\"\n",
    "\n",
    "classify_with_prompt(prompt, labels)\n",
    "# Correct: NYT headline"
   ]
  },
  {
   "cell_type": "code",
   "execution_count": 29,
   "metadata": {},
   "outputs": [
    {
     "name": "stdout",
     "output_type": "stream",
     "text": [
      "0.000333\tTimes\n",
      "0.000011\tJournal\n",
      "\n",
      "Completion with highest probability:\n",
      "\n",
      "Q: Popular Investing Apps Might Hold a Tax Surprise\n",
      "A: Journal\n",
      "\n",
      "Q: More Companies Mandate Vaccine Ahead of Deadline\n",
      "A: Journal\n",
      "\n",
      "Q: Is Brexit Hurting the U.K. Economy? Trade Data Flashes a Warning\n",
      "A: Journal\n",
      "\n",
      "Q: What’s Behind the Worker Shortage Slowing the Economic Rebound\n",
      "A: Times\n",
      "\n",
      "Q: Democrats, Facing Republican Barrage, Scale Back I.R.S. Enforcement Plan\n",
      "A: Times\n",
      "\n",
      "Q: Brazilian Leader’s Pandemic Handling Draws Explosive Allegation: Homicide\n",
      "A: Times\n",
      "\n",
      "Q: Democrats Try to Salvage IRS Bank-Account Reporting With Scaled-Back Plan\n",
      "A: Times\n"
     ]
    }
   ],
   "source": [
    "labels = [\"Times\", \"Journal\"]\n",
    "prompt = \"\"\"Q: Popular Investing Apps Might Hold a Tax Surprise\n",
    "A: Journal\n",
    "\n",
    "Q: More Companies Mandate Vaccine Ahead of Deadline\n",
    "A: Journal\n",
    "\n",
    "Q: Is Brexit Hurting the U.K. Economy? Trade Data Flashes a Warning\n",
    "A: Journal\n",
    "\n",
    "Q: What’s Behind the Worker Shortage Slowing the Economic Rebound\n",
    "A: Times\n",
    "\n",
    "Q: Democrats, Facing Republican Barrage, Scale Back I.R.S. Enforcement Plan\n",
    "A: Times\n",
    "\n",
    "Q: Brazilian Leader’s Pandemic Handling Draws Explosive Allegation: Homicide\n",
    "A: Times\n",
    "\n",
    "Q: Democrats Try to Salvage IRS Bank-Account Reporting With Scaled-Back Plan\n",
    "A:\"\"\"\n",
    "\n",
    "classify_with_prompt(prompt, labels)\n",
    "# Incorrect: WSJ headline"
   ]
  },
  {
   "cell_type": "code",
   "execution_count": 30,
   "metadata": {},
   "outputs": [
    {
     "name": "stdout",
     "output_type": "stream",
     "text": [
      "0.000228\tTimes\n",
      "0.000018\tJournal\n",
      "\n",
      "Completion with highest probability:\n",
      "\n",
      "Q: Popular Investing Apps Might Hold a Tax Surprise\n",
      "A: Journal\n",
      "\n",
      "Q: More Companies Mandate Vaccine Ahead of Deadline\n",
      "A: Journal\n",
      "\n",
      "Q: Is Brexit Hurting the U.K. Economy? Trade Data Flashes a Warning\n",
      "A: Journal\n",
      "\n",
      "Q: What’s Behind the Worker Shortage Slowing the Economic Rebound\n",
      "A: Times\n",
      "\n",
      "Q: Democrats, Facing Republican Barrage, Scale Back I.R.S. Enforcement Plan\n",
      "A: Times\n",
      "\n",
      "Q: Brazilian Leader’s Pandemic Handling Draws Explosive Allegation: Homicide\n",
      "A: Times\n",
      "\n",
      "Q: Congress Is Losing Patience With Big-Tech Resistance, Klobuchar Says\n",
      "A: Times\n"
     ]
    }
   ],
   "source": [
    "labels = [\"Times\", \"Journal\"]\n",
    "prompt = \"\"\"Q: Popular Investing Apps Might Hold a Tax Surprise\n",
    "A: Journal\n",
    "\n",
    "Q: More Companies Mandate Vaccine Ahead of Deadline\n",
    "A: Journal\n",
    "\n",
    "Q: Is Brexit Hurting the U.K. Economy? Trade Data Flashes a Warning\n",
    "A: Journal\n",
    "\n",
    "Q: What’s Behind the Worker Shortage Slowing the Economic Rebound\n",
    "A: Times\n",
    "\n",
    "Q: Democrats, Facing Republican Barrage, Scale Back I.R.S. Enforcement Plan\n",
    "A: Times\n",
    "\n",
    "Q: Brazilian Leader’s Pandemic Handling Draws Explosive Allegation: Homicide\n",
    "A: Times\n",
    "\n",
    "Q: Congress Is Losing Patience With Big-Tech Resistance, Klobuchar Says\n",
    "A:\"\"\"\n",
    "\n",
    "classify_with_prompt(prompt, labels)\n",
    "# Incorrect: WSJ headline"
   ]
  },
  {
   "cell_type": "markdown",
   "metadata": {},
   "source": [
    "Final accuracy: 2/5 correct\n",
    "\n",
    "My goal with this model was to try to classify headlines from two major newspapers, the New York Times (`Times`) and Wall Street Journal (`Journal`). I assumed that, since the NYT is seen as a more \"liberal\" newspaper focused on politics and social issues and the WSJ as more \"conservative\" and focused on economics, that the language would be different enough that GPT-2 would be able to differentiate it. \n",
    "\n",
    "To do this, I picked the top headlines from both papers from today (10/19) and used them as the prompts. Interestingly, the model classified all of the headlines as from the Times, so there definitely needs to be adjustments made to the prompts (or possibly different prompts?) to make this a better classification model. "
   ]
  },
  {
   "cell_type": "code",
   "execution_count": null,
   "metadata": {},
   "outputs": [],
   "source": []
  }
 ],
 "metadata": {
  "accelerator": "GPU",
  "colab": {
   "collapsed_sections": [],
   "name": "prompt_design",
   "provenance": []
  },
  "kernelspec": {
   "display_name": "Python 3",
   "language": "python",
   "name": "python3"
  },
  "language_info": {
   "codemirror_mode": {
    "name": "ipython",
    "version": 3
   },
   "file_extension": ".py",
   "mimetype": "text/x-python",
   "name": "python",
   "nbconvert_exporter": "python",
   "pygments_lexer": "ipython3",
   "version": "3.8.8"
  }
 },
 "nbformat": 4,
 "nbformat_minor": 1
}
